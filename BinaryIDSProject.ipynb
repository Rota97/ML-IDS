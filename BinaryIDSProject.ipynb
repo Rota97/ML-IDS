{
  "cells": [
    {
      "cell_type": "markdown",
      "metadata": {
        "id": "ZAxFIafh3pve"
      },
      "source": [
        "\n",
        "# IDS for IoT Classification\n",
        "In this notebook, we are going to classify benign data or not, using several machine learning algorithms. The steps we are going to follow are:\n",
        "\n",
        "- Import the necessary libraries\n",
        "- Load and explore the dataset\n",
        "- Preprocess the data\n",
        "- Visualize the data\n",
        "- Split the dataset into training and testing sets\n",
        "- Train several models and evaluate their performances\n",
        "\n",
        "\n",
        "\n"
      ]
    },
    {
      "cell_type": "code",
      "execution_count": 2,
      "metadata": {
        "id": "QzhOkVMk4rKA"
      },
      "outputs": [
        {
          "name": "stderr",
          "output_type": "stream",
          "text": [
            "C:\\Users\\likem\\AppData\\Local\\Temp\\ipykernel_50172\\2791506481.py:6: DeprecationWarning: \n",
            "Pyarrow will become a required dependency of pandas in the next major release of pandas (pandas 3.0),\n",
            "(to allow more performant data types, such as the Arrow string type, and better interoperability with other libraries)\n",
            "but was not found to be installed on your system.\n",
            "If this would cause problems for you,\n",
            "please provide us feedback at https://github.com/pandas-dev/pandas/issues/54466\n",
            "        \n",
            "  import pandas as pd\n"
          ]
        },
        {
          "name": "stdout",
          "output_type": "stream",
          "text": [
            "WARNING:tensorflow:From c:\\Users\\likem\\AppData\\Local\\Programs\\Python\\Python311\\Lib\\site-packages\\keras\\src\\losses.py:2976: The name tf.losses.sparse_softmax_cross_entropy is deprecated. Please use tf.compat.v1.losses.sparse_softmax_cross_entropy instead.\n",
            "\n"
          ]
        }
      ],
      "source": [
        "#Imports\n",
        "#Below are all the imports used in the notebook.\n",
        "\n",
        "# Common\n",
        "import numpy as np\n",
        "import pandas as pd\n",
        "\n",
        "# Data Visualization\n",
        "import matplotlib.pyplot as plt\n",
        "import plotly.express as px\n",
        "import seaborn as sns\n",
        "\n",
        "# Data Processing\n",
        "from sklearn.preprocessing import LabelEncoder, StandardScaler\n",
        "from sklearn.model_selection import train_test_split\n",
        "\n",
        "# ML Models\n",
        "from sklearn.tree import DecisionTreeClassifier\n",
        "from sklearn.linear_model import LogisticRegression\n",
        "from sklearn.ensemble import RandomForestClassifier\n",
        "from xgboost import XGBClassifier\n",
        "from keras.models import Sequential\n",
        "from keras.layers import Dense\n",
        "\n",
        "# Performace Measures\n",
        "from sklearn.metrics import classification_report, confusion_matrix\n",
        "\n",
        "\n"
      ]
    },
    {
      "cell_type": "markdown",
      "metadata": {
        "id": "LF2-Yya73vYW"
      },
      "source": [
        "# Data Loading\n",
        "We start by loading the data from an excel file using pandas.\n",
        "first we need to mount the drive\n",
        "test\n"
      ]
    },
    {
      "cell_type": "code",
      "execution_count": 3,
      "metadata": {
        "id": "Bopq2B6H6K-q"
      },
      "outputs": [],
      "source": [
        "#Data\n",
        "#To solve a problem we need to have a look at the problem first.\n",
        "# File Path\n",
        "file_path_train = 'C:/Users/likem/Downloads/Dataset/Binary/train.csv'\n",
        "file_path_test = 'C:/Users/likem/Downloads/Dataset/Binary/test.csv'\n",
        "\n",
        "# Load data\n",
        "dfTrain = pd.read_csv(file_path_train)\n",
        "dfTest=pd.read_csv(file_path_test)\n",
        "\n"
      ]
    },
    {
      "cell_type": "markdown",
      "metadata": {
        "id": "_3D2FQ7F3z64"
      },
      "source": [
        "# Information about the dataset\n",
        "\n",
        ">\n",
        "\n",
        "\n"
      ]
    },
    {
      "cell_type": "code",
      "execution_count": 4,
      "metadata": {
        "colab": {
          "base_uri": "https://localhost:8080/",
          "height": 273
        },
        "id": "FA2GjUmClzqL",
        "outputId": "33069184-b7f1-4b31-f5ba-4c32bd959c5f"
      },
      "outputs": [
        {
          "data": {
            "text/html": [
              "<div>\n",
              "<style scoped>\n",
              "    .dataframe tbody tr th:only-of-type {\n",
              "        vertical-align: middle;\n",
              "    }\n",
              "\n",
              "    .dataframe tbody tr th {\n",
              "        vertical-align: top;\n",
              "    }\n",
              "\n",
              "    .dataframe thead th {\n",
              "        text-align: right;\n",
              "    }\n",
              "</style>\n",
              "<table border=\"1\" class=\"dataframe\">\n",
              "  <thead>\n",
              "    <tr style=\"text-align: right;\">\n",
              "      <th></th>\n",
              "      <th>flow_duration</th>\n",
              "      <th>Header_Length</th>\n",
              "      <th>Protocol Type</th>\n",
              "      <th>Duration</th>\n",
              "      <th>Rate</th>\n",
              "      <th>Srate</th>\n",
              "      <th>Drate</th>\n",
              "      <th>fin_flag_number</th>\n",
              "      <th>syn_flag_number</th>\n",
              "      <th>rst_flag_number</th>\n",
              "      <th>...</th>\n",
              "      <th>Std</th>\n",
              "      <th>Tot size</th>\n",
              "      <th>IAT</th>\n",
              "      <th>Number</th>\n",
              "      <th>Magnitue</th>\n",
              "      <th>Radius</th>\n",
              "      <th>Covariance</th>\n",
              "      <th>Variance</th>\n",
              "      <th>Weight</th>\n",
              "      <th>label</th>\n",
              "    </tr>\n",
              "  </thead>\n",
              "  <tbody>\n",
              "    <tr>\n",
              "      <th>0</th>\n",
              "      <td>0.000838</td>\n",
              "      <td>54.62</td>\n",
              "      <td>6.05</td>\n",
              "      <td>64.00</td>\n",
              "      <td>11.961779</td>\n",
              "      <td>11.961779</td>\n",
              "      <td>0.0</td>\n",
              "      <td>0.0</td>\n",
              "      <td>0.0</td>\n",
              "      <td>0.0</td>\n",
              "      <td>...</td>\n",
              "      <td>0.111473</td>\n",
              "      <td>54.45</td>\n",
              "      <td>8.307598e+07</td>\n",
              "      <td>9.5</td>\n",
              "      <td>10.392912</td>\n",
              "      <td>0.037895</td>\n",
              "      <td>0.035900</td>\n",
              "      <td>0.02</td>\n",
              "      <td>141.55</td>\n",
              "      <td>Attack</td>\n",
              "    </tr>\n",
              "    <tr>\n",
              "      <th>1</th>\n",
              "      <td>0.005486</td>\n",
              "      <td>75.88</td>\n",
              "      <td>6.00</td>\n",
              "      <td>64.00</td>\n",
              "      <td>29.502125</td>\n",
              "      <td>29.502125</td>\n",
              "      <td>0.0</td>\n",
              "      <td>0.0</td>\n",
              "      <td>1.0</td>\n",
              "      <td>0.0</td>\n",
              "      <td>...</td>\n",
              "      <td>0.100314</td>\n",
              "      <td>54.24</td>\n",
              "      <td>8.309325e+07</td>\n",
              "      <td>9.5</td>\n",
              "      <td>10.395361</td>\n",
              "      <td>0.143036</td>\n",
              "      <td>0.346802</td>\n",
              "      <td>0.03</td>\n",
              "      <td>141.55</td>\n",
              "      <td>Attack</td>\n",
              "    </tr>\n",
              "    <tr>\n",
              "      <th>2</th>\n",
              "      <td>0.000000</td>\n",
              "      <td>0.00</td>\n",
              "      <td>45.61</td>\n",
              "      <td>65.81</td>\n",
              "      <td>151.517376</td>\n",
              "      <td>151.517376</td>\n",
              "      <td>0.0</td>\n",
              "      <td>0.0</td>\n",
              "      <td>0.0</td>\n",
              "      <td>0.0</td>\n",
              "      <td>...</td>\n",
              "      <td>57.165223</td>\n",
              "      <td>576.80</td>\n",
              "      <td>8.369379e+07</td>\n",
              "      <td>9.5</td>\n",
              "      <td>33.783684</td>\n",
              "      <td>80.958879</td>\n",
              "      <td>8638.780727</td>\n",
              "      <td>0.40</td>\n",
              "      <td>141.55</td>\n",
              "      <td>Attack</td>\n",
              "    </tr>\n",
              "    <tr>\n",
              "      <th>3</th>\n",
              "      <td>0.000000</td>\n",
              "      <td>54.00</td>\n",
              "      <td>6.00</td>\n",
              "      <td>64.00</td>\n",
              "      <td>1.500542</td>\n",
              "      <td>1.500542</td>\n",
              "      <td>0.0</td>\n",
              "      <td>0.0</td>\n",
              "      <td>1.0</td>\n",
              "      <td>0.0</td>\n",
              "      <td>...</td>\n",
              "      <td>0.000000</td>\n",
              "      <td>54.00</td>\n",
              "      <td>8.309408e+07</td>\n",
              "      <td>9.5</td>\n",
              "      <td>10.392305</td>\n",
              "      <td>0.000000</td>\n",
              "      <td>0.000000</td>\n",
              "      <td>0.00</td>\n",
              "      <td>141.55</td>\n",
              "      <td>Attack</td>\n",
              "    </tr>\n",
              "    <tr>\n",
              "      <th>4</th>\n",
              "      <td>0.004568</td>\n",
              "      <td>745.42</td>\n",
              "      <td>5.95</td>\n",
              "      <td>65.13</td>\n",
              "      <td>8.082100</td>\n",
              "      <td>8.082100</td>\n",
              "      <td>0.0</td>\n",
              "      <td>0.0</td>\n",
              "      <td>0.0</td>\n",
              "      <td>0.0</td>\n",
              "      <td>...</td>\n",
              "      <td>549.190629</td>\n",
              "      <td>927.04</td>\n",
              "      <td>8.333561e+07</td>\n",
              "      <td>9.5</td>\n",
              "      <td>41.550978</td>\n",
              "      <td>776.661367</td>\n",
              "      <td>318084.344439</td>\n",
              "      <td>0.95</td>\n",
              "      <td>141.55</td>\n",
              "      <td>Attack</td>\n",
              "    </tr>\n",
              "  </tbody>\n",
              "</table>\n",
              "<p>5 rows × 47 columns</p>\n",
              "</div>"
            ],
            "text/plain": [
              "   flow_duration  Header_Length  Protocol Type  Duration        Rate  \\\n",
              "0       0.000838          54.62           6.05     64.00   11.961779   \n",
              "1       0.005486          75.88           6.00     64.00   29.502125   \n",
              "2       0.000000           0.00          45.61     65.81  151.517376   \n",
              "3       0.000000          54.00           6.00     64.00    1.500542   \n",
              "4       0.004568         745.42           5.95     65.13    8.082100   \n",
              "\n",
              "        Srate  Drate  fin_flag_number  syn_flag_number  rst_flag_number  ...  \\\n",
              "0   11.961779    0.0              0.0              0.0              0.0  ...   \n",
              "1   29.502125    0.0              0.0              1.0              0.0  ...   \n",
              "2  151.517376    0.0              0.0              0.0              0.0  ...   \n",
              "3    1.500542    0.0              0.0              1.0              0.0  ...   \n",
              "4    8.082100    0.0              0.0              0.0              0.0  ...   \n",
              "\n",
              "          Std  Tot size           IAT  Number   Magnitue      Radius  \\\n",
              "0    0.111473     54.45  8.307598e+07     9.5  10.392912    0.037895   \n",
              "1    0.100314     54.24  8.309325e+07     9.5  10.395361    0.143036   \n",
              "2   57.165223    576.80  8.369379e+07     9.5  33.783684   80.958879   \n",
              "3    0.000000     54.00  8.309408e+07     9.5  10.392305    0.000000   \n",
              "4  549.190629    927.04  8.333561e+07     9.5  41.550978  776.661367   \n",
              "\n",
              "      Covariance  Variance  Weight   label  \n",
              "0       0.035900      0.02  141.55  Attack  \n",
              "1       0.346802      0.03  141.55  Attack  \n",
              "2    8638.780727      0.40  141.55  Attack  \n",
              "3       0.000000      0.00  141.55  Attack  \n",
              "4  318084.344439      0.95  141.55  Attack  \n",
              "\n",
              "[5 rows x 47 columns]"
            ]
          },
          "execution_count": 4,
          "metadata": {},
          "output_type": "execute_result"
        }
      ],
      "source": [
        "dfTrain.head()\n"
      ]
    },
    {
      "cell_type": "code",
      "execution_count": 5,
      "metadata": {
        "colab": {
          "base_uri": "https://localhost:8080/",
          "height": 273
        },
        "id": "n7FA8WZFl7uM",
        "outputId": "d295dcf6-b9a2-47f3-d551-64122962da27"
      },
      "outputs": [
        {
          "data": {
            "text/html": [
              "<div>\n",
              "<style scoped>\n",
              "    .dataframe tbody tr th:only-of-type {\n",
              "        vertical-align: middle;\n",
              "    }\n",
              "\n",
              "    .dataframe tbody tr th {\n",
              "        vertical-align: top;\n",
              "    }\n",
              "\n",
              "    .dataframe thead th {\n",
              "        text-align: right;\n",
              "    }\n",
              "</style>\n",
              "<table border=\"1\" class=\"dataframe\">\n",
              "  <thead>\n",
              "    <tr style=\"text-align: right;\">\n",
              "      <th></th>\n",
              "      <th>flow_duration</th>\n",
              "      <th>Header_Length</th>\n",
              "      <th>Protocol Type</th>\n",
              "      <th>Duration</th>\n",
              "      <th>Rate</th>\n",
              "      <th>Srate</th>\n",
              "      <th>Drate</th>\n",
              "      <th>fin_flag_number</th>\n",
              "      <th>syn_flag_number</th>\n",
              "      <th>rst_flag_number</th>\n",
              "      <th>...</th>\n",
              "      <th>Std</th>\n",
              "      <th>Tot size</th>\n",
              "      <th>IAT</th>\n",
              "      <th>Number</th>\n",
              "      <th>Magnitue</th>\n",
              "      <th>Radius</th>\n",
              "      <th>Covariance</th>\n",
              "      <th>Variance</th>\n",
              "      <th>Weight</th>\n",
              "      <th>label</th>\n",
              "    </tr>\n",
              "  </thead>\n",
              "  <tbody>\n",
              "    <tr>\n",
              "      <th>0</th>\n",
              "      <td>0.000000</td>\n",
              "      <td>54.00</td>\n",
              "      <td>6.00</td>\n",
              "      <td>64.00</td>\n",
              "      <td>110.797744</td>\n",
              "      <td>110.797744</td>\n",
              "      <td>0.0</td>\n",
              "      <td>0.0</td>\n",
              "      <td>0.0</td>\n",
              "      <td>0.0</td>\n",
              "      <td>...</td>\n",
              "      <td>0.000000</td>\n",
              "      <td>54.00</td>\n",
              "      <td>8.307619e+07</td>\n",
              "      <td>9.5</td>\n",
              "      <td>10.392305</td>\n",
              "      <td>0.000000</td>\n",
              "      <td>0.000000</td>\n",
              "      <td>0.00</td>\n",
              "      <td>141.55</td>\n",
              "      <td>Attack</td>\n",
              "    </tr>\n",
              "    <tr>\n",
              "      <th>1</th>\n",
              "      <td>0.006453</td>\n",
              "      <td>182.88</td>\n",
              "      <td>16.67</td>\n",
              "      <td>63.60</td>\n",
              "      <td>30.905833</td>\n",
              "      <td>30.905833</td>\n",
              "      <td>0.0</td>\n",
              "      <td>0.0</td>\n",
              "      <td>0.0</td>\n",
              "      <td>0.0</td>\n",
              "      <td>...</td>\n",
              "      <td>3.072377</td>\n",
              "      <td>162.87</td>\n",
              "      <td>8.300739e+07</td>\n",
              "      <td>9.5</td>\n",
              "      <td>18.010237</td>\n",
              "      <td>4.370333</td>\n",
              "      <td>209.623265</td>\n",
              "      <td>0.05</td>\n",
              "      <td>141.55</td>\n",
              "      <td>Attack</td>\n",
              "    </tr>\n",
              "    <tr>\n",
              "      <th>2</th>\n",
              "      <td>31.739927</td>\n",
              "      <td>7382.93</td>\n",
              "      <td>3.23</td>\n",
              "      <td>80.15</td>\n",
              "      <td>8.923224</td>\n",
              "      <td>8.923224</td>\n",
              "      <td>0.0</td>\n",
              "      <td>0.0</td>\n",
              "      <td>0.0</td>\n",
              "      <td>0.0</td>\n",
              "      <td>...</td>\n",
              "      <td>532.284695</td>\n",
              "      <td>637.09</td>\n",
              "      <td>8.328373e+07</td>\n",
              "      <td>9.5</td>\n",
              "      <td>35.140754</td>\n",
              "      <td>752.738781</td>\n",
              "      <td>306225.702126</td>\n",
              "      <td>0.94</td>\n",
              "      <td>141.55</td>\n",
              "      <td>Attack</td>\n",
              "    </tr>\n",
              "    <tr>\n",
              "      <th>3</th>\n",
              "      <td>0.000000</td>\n",
              "      <td>54.00</td>\n",
              "      <td>6.00</td>\n",
              "      <td>64.00</td>\n",
              "      <td>1.697796</td>\n",
              "      <td>1.697796</td>\n",
              "      <td>0.0</td>\n",
              "      <td>0.0</td>\n",
              "      <td>0.0</td>\n",
              "      <td>0.0</td>\n",
              "      <td>...</td>\n",
              "      <td>0.000000</td>\n",
              "      <td>54.00</td>\n",
              "      <td>8.307650e+07</td>\n",
              "      <td>9.5</td>\n",
              "      <td>10.392305</td>\n",
              "      <td>0.000000</td>\n",
              "      <td>0.000000</td>\n",
              "      <td>0.00</td>\n",
              "      <td>141.55</td>\n",
              "      <td>Attack</td>\n",
              "    </tr>\n",
              "    <tr>\n",
              "      <th>4</th>\n",
              "      <td>0.000000</td>\n",
              "      <td>54.00</td>\n",
              "      <td>6.00</td>\n",
              "      <td>64.00</td>\n",
              "      <td>1.471092</td>\n",
              "      <td>1.471092</td>\n",
              "      <td>0.0</td>\n",
              "      <td>1.0</td>\n",
              "      <td>0.0</td>\n",
              "      <td>1.0</td>\n",
              "      <td>...</td>\n",
              "      <td>0.000000</td>\n",
              "      <td>54.00</td>\n",
              "      <td>8.334428e+07</td>\n",
              "      <td>9.5</td>\n",
              "      <td>10.392305</td>\n",
              "      <td>0.000000</td>\n",
              "      <td>0.000000</td>\n",
              "      <td>0.00</td>\n",
              "      <td>141.55</td>\n",
              "      <td>Attack</td>\n",
              "    </tr>\n",
              "  </tbody>\n",
              "</table>\n",
              "<p>5 rows × 47 columns</p>\n",
              "</div>"
            ],
            "text/plain": [
              "   flow_duration  Header_Length  Protocol Type  Duration        Rate  \\\n",
              "0       0.000000          54.00           6.00     64.00  110.797744   \n",
              "1       0.006453         182.88          16.67     63.60   30.905833   \n",
              "2      31.739927        7382.93           3.23     80.15    8.923224   \n",
              "3       0.000000          54.00           6.00     64.00    1.697796   \n",
              "4       0.000000          54.00           6.00     64.00    1.471092   \n",
              "\n",
              "        Srate  Drate  fin_flag_number  syn_flag_number  rst_flag_number  ...  \\\n",
              "0  110.797744    0.0              0.0              0.0              0.0  ...   \n",
              "1   30.905833    0.0              0.0              0.0              0.0  ...   \n",
              "2    8.923224    0.0              0.0              0.0              0.0  ...   \n",
              "3    1.697796    0.0              0.0              0.0              0.0  ...   \n",
              "4    1.471092    0.0              1.0              0.0              1.0  ...   \n",
              "\n",
              "          Std  Tot size           IAT  Number   Magnitue      Radius  \\\n",
              "0    0.000000     54.00  8.307619e+07     9.5  10.392305    0.000000   \n",
              "1    3.072377    162.87  8.300739e+07     9.5  18.010237    4.370333   \n",
              "2  532.284695    637.09  8.328373e+07     9.5  35.140754  752.738781   \n",
              "3    0.000000     54.00  8.307650e+07     9.5  10.392305    0.000000   \n",
              "4    0.000000     54.00  8.334428e+07     9.5  10.392305    0.000000   \n",
              "\n",
              "      Covariance  Variance  Weight   label  \n",
              "0       0.000000      0.00  141.55  Attack  \n",
              "1     209.623265      0.05  141.55  Attack  \n",
              "2  306225.702126      0.94  141.55  Attack  \n",
              "3       0.000000      0.00  141.55  Attack  \n",
              "4       0.000000      0.00  141.55  Attack  \n",
              "\n",
              "[5 rows x 47 columns]"
            ]
          },
          "execution_count": 5,
          "metadata": {},
          "output_type": "execute_result"
        }
      ],
      "source": [
        "dfTest.head()"
      ]
    },
    {
      "cell_type": "markdown",
      "metadata": {
        "id": "aH5EbIYc3536"
      },
      "source": [
        "# Data Visualization\n",
        "Before we proceed with any machine learning, let's visualize the data to get a sense of the classess.\n"
      ]
    },
    {
      "cell_type": "code",
      "execution_count": 6,
      "metadata": {
        "colab": {
          "base_uri": "https://localhost:8080/",
          "height": 465
        },
        "id": "un8UOwYl8Emv",
        "outputId": "19739457-8c36-43db-8715-17baf0b7019c"
      },
      "outputs": [
        {
          "data": {
            "image/png": "[encoded data removed]",
            "text/plain": [
              "<Figure size 1500x500 with 1 Axes>"
            ]
          },
          "metadata": {},
          "output_type": "display_data"
        }
      ],
      "source": [
        "#Data Visualization\n",
        "#Let's first have a look at the Class Distribution.\n",
        "# Class Distribution\n",
        "plt.figure(figsize=(15, 5))\n",
        "sns.countplot(x='label', data=dfTrain)\n",
        "plt.show()"
      ]
    },
    {
      "cell_type": "code",
      "execution_count": 7,
      "metadata": {
        "colab": {
          "base_uri": "https://localhost:8080/",
          "height": 465
        },
        "id": "pgZRM9yJ-FEG",
        "outputId": "79e402d6-eede-470f-d9e7-b4914e65846b"
      },
      "outputs": [
        {
          "data": {
            "image/png": "[encoded data removed]",
            "text/plain": [
              "<Figure size 1500x500 with 1 Axes>"
            ]
          },
          "metadata": {},
          "output_type": "display_data"
        }
      ],
      "source": [
        "#Data Visualization\n",
        "#Let's first have a look at the Class Distribution.\n",
        "# Class Distribution\n",
        "plt.figure(figsize=(15, 5))\n",
        "sns.countplot(x='label', data=dfTest)\n",
        "plt.show()"
      ]
    },
    {
      "cell_type": "markdown",
      "metadata": {
        "id": "fAR0oTzD3-8y"
      },
      "source": [
        "# Data Preprocessing\n",
        "We will encode the categorical variables. Also, the features need to be scaled for some of the models to perform well.\n"
      ]
    },
    {
      "cell_type": "code",
      "execution_count": 8,
      "metadata": {
        "colab": {
          "base_uri": "https://localhost:8080/"
        },
        "id": "13kYe9eCBGzG",
        "outputId": "d857acff-d2a4-4e4e-dc36-ecf05a375bd5"
      },
      "outputs": [
        {
          "name": "stdout",
          "output_type": "stream",
          "text": [
            "<class 'pandas.core.frame.DataFrame'>\n",
            "RangeIndex: 243649 entries, 0 to 243648\n",
            "Data columns (total 47 columns):\n",
            " #   Column           Non-Null Count   Dtype  \n",
            "---  ------           --------------   -----  \n",
            " 0   flow_duration    243649 non-null  float64\n",
            " 1   Header_Length    243649 non-null  float64\n",
            " 2   Protocol Type    243649 non-null  float64\n",
            " 3   Duration         243649 non-null  float64\n",
            " 4   Rate             243649 non-null  float64\n",
            " 5   Srate            243649 non-null  float64\n",
            " 6   Drate            243649 non-null  float64\n",
            " 7   fin_flag_number  243649 non-null  float64\n",
            " 8   syn_flag_number  243649 non-null  float64\n",
            " 9   rst_flag_number  243649 non-null  float64\n",
            " 10  psh_flag_number  243649 non-null  float64\n",
            " 11  ack_flag_number  243649 non-null  float64\n",
            " 12  ece_flag_number  243649 non-null  float64\n",
            " 13  cwr_flag_number  243649 non-null  float64\n",
            " 14  ack_count        243649 non-null  float64\n",
            " 15  syn_count        243649 non-null  float64\n",
            " 16  fin_count        243649 non-null  float64\n",
            " 17  urg_count        243649 non-null  float64\n",
            " 18  rst_count        243649 non-null  float64\n",
            " 19  HTTP             243649 non-null  float64\n",
            " 20  HTTPS            243649 non-null  float64\n",
            " 21  DNS              243649 non-null  float64\n",
            " 22  Telnet           243649 non-null  float64\n",
            " 23  SMTP             243649 non-null  float64\n",
            " 24  SSH              243649 non-null  float64\n",
            " 25  IRC              243649 non-null  float64\n",
            " 26  TCP              243649 non-null  float64\n",
            " 27  UDP              243649 non-null  float64\n",
            " 28  DHCP             243649 non-null  float64\n",
            " 29  ARP              243649 non-null  float64\n",
            " 30  ICMP             243649 non-null  float64\n",
            " 31  IPv              243649 non-null  float64\n",
            " 32  LLC              243649 non-null  float64\n",
            " 33  Tot sum          243649 non-null  float64\n",
            " 34  Min              243649 non-null  float64\n",
            " 35  Max              243649 non-null  float64\n",
            " 36  AVG              243649 non-null  float64\n",
            " 37  Std              243649 non-null  float64\n",
            " 38  Tot size         243649 non-null  float64\n",
            " 39  IAT              243649 non-null  float64\n",
            " 40  Number           243649 non-null  float64\n",
            " 41  Magnitue         243649 non-null  float64\n",
            " 42  Radius           243649 non-null  float64\n",
            " 43  Covariance       243649 non-null  float64\n",
            " 44  Variance         243649 non-null  float64\n",
            " 45  Weight           243649 non-null  float64\n",
            " 46  label            243649 non-null  object \n",
            "dtypes: float64(46), object(1)\n",
            "memory usage: 87.4+ MB\n"
          ]
        }
      ],
      "source": [
        "dfTrain.info()\n",
        "\n"
      ]
    },
    {
      "cell_type": "code",
      "execution_count": 9,
      "metadata": {
        "colab": {
          "base_uri": "https://localhost:8080/"
        },
        "id": "mpniEpql-NNK",
        "outputId": "01784890-9fcd-4751-dea2-95d9d395968d"
      },
      "outputs": [
        {
          "data": {
            "text/plain": [
              "label\n",
              "0    237911\n",
              "1      5738\n",
              "Name: count, dtype: int64"
            ]
          },
          "execution_count": 9,
          "metadata": {},
          "output_type": "execute_result"
        }
      ],
      "source": [
        "le = LabelEncoder()\n",
        "dfTrain.label =le.fit_transform(dfTrain.label)\n",
        "\n",
        "\n",
        "\n",
        "dfTrain.label.value_counts()\n"
      ]
    },
    {
      "cell_type": "code",
      "execution_count": 10,
      "metadata": {
        "id": "HB3lKYccDi_k"
      },
      "outputs": [],
      "source": [
        "dfTrain.label =le.fit_transform(dfTrain.label)"
      ]
    },
    {
      "cell_type": "code",
      "execution_count": 11,
      "metadata": {
        "colab": {
          "base_uri": "https://localhost:8080/"
        },
        "id": "hM9UsjU8BsW8",
        "outputId": "121b46d1-a3e2-4831-d20b-9eeb4efa1491"
      },
      "outputs": [
        {
          "name": "stdout",
          "output_type": "stream",
          "text": [
            "<class 'pandas.core.frame.DataFrame'>\n",
            "RangeIndex: 243649 entries, 0 to 243648\n",
            "Data columns (total 47 columns):\n",
            " #   Column           Non-Null Count   Dtype  \n",
            "---  ------           --------------   -----  \n",
            " 0   flow_duration    243649 non-null  float64\n",
            " 1   Header_Length    243649 non-null  float64\n",
            " 2   Protocol Type    243649 non-null  float64\n",
            " 3   Duration         243649 non-null  float64\n",
            " 4   Rate             243649 non-null  float64\n",
            " 5   Srate            243649 non-null  float64\n",
            " 6   Drate            243649 non-null  float64\n",
            " 7   fin_flag_number  243649 non-null  float64\n",
            " 8   syn_flag_number  243649 non-null  float64\n",
            " 9   rst_flag_number  243649 non-null  float64\n",
            " 10  psh_flag_number  243649 non-null  float64\n",
            " 11  ack_flag_number  243649 non-null  float64\n",
            " 12  ece_flag_number  243649 non-null  float64\n",
            " 13  cwr_flag_number  243649 non-null  float64\n",
            " 14  ack_count        243649 non-null  float64\n",
            " 15  syn_count        243649 non-null  float64\n",
            " 16  fin_count        243649 non-null  float64\n",
            " 17  urg_count        243649 non-null  float64\n",
            " 18  rst_count        243649 non-null  float64\n",
            " 19  HTTP             243649 non-null  float64\n",
            " 20  HTTPS            243649 non-null  float64\n",
            " 21  DNS              243649 non-null  float64\n",
            " 22  Telnet           243649 non-null  float64\n",
            " 23  SMTP             243649 non-null  float64\n",
            " 24  SSH              243649 non-null  float64\n",
            " 25  IRC              243649 non-null  float64\n",
            " 26  TCP              243649 non-null  float64\n",
            " 27  UDP              243649 non-null  float64\n",
            " 28  DHCP             243649 non-null  float64\n",
            " 29  ARP              243649 non-null  float64\n",
            " 30  ICMP             243649 non-null  float64\n",
            " 31  IPv              243649 non-null  float64\n",
            " 32  LLC              243649 non-null  float64\n",
            " 33  Tot sum          243649 non-null  float64\n",
            " 34  Min              243649 non-null  float64\n",
            " 35  Max              243649 non-null  float64\n",
            " 36  AVG              243649 non-null  float64\n",
            " 37  Std              243649 non-null  float64\n",
            " 38  Tot size         243649 non-null  float64\n",
            " 39  IAT              243649 non-null  float64\n",
            " 40  Number           243649 non-null  float64\n",
            " 41  Magnitue         243649 non-null  float64\n",
            " 42  Radius           243649 non-null  float64\n",
            " 43  Covariance       243649 non-null  float64\n",
            " 44  Variance         243649 non-null  float64\n",
            " 45  Weight           243649 non-null  float64\n",
            " 46  label            243649 non-null  int64  \n",
            "dtypes: float64(46), int64(1)\n",
            "memory usage: 87.4 MB\n"
          ]
        }
      ],
      "source": [
        "dfTrain.info()"
      ]
    },
    {
      "cell_type": "code",
      "execution_count": 12,
      "metadata": {
        "id": "s1HF6KFCj_0x"
      },
      "outputs": [],
      "source": [
        "dfTest.label =le.fit_transform(dfTest.label)"
      ]
    },
    {
      "cell_type": "code",
      "execution_count": 13,
      "metadata": {
        "colab": {
          "base_uri": "https://localhost:8080/"
        },
        "id": "LPhxzYlvkCMQ",
        "outputId": "f3802752-cde7-48b8-de84-ad8bb2b9032f"
      },
      "outputs": [
        {
          "name": "stdout",
          "output_type": "stream",
          "text": [
            "<class 'pandas.core.frame.DataFrame'>\n",
            "RangeIndex: 234745 entries, 0 to 234744\n",
            "Data columns (total 47 columns):\n",
            " #   Column           Non-Null Count   Dtype  \n",
            "---  ------           --------------   -----  \n",
            " 0   flow_duration    234745 non-null  float64\n",
            " 1   Header_Length    234745 non-null  float64\n",
            " 2   Protocol Type    234745 non-null  float64\n",
            " 3   Duration         234745 non-null  float64\n",
            " 4   Rate             234745 non-null  float64\n",
            " 5   Srate            234745 non-null  float64\n",
            " 6   Drate            234745 non-null  float64\n",
            " 7   fin_flag_number  234745 non-null  float64\n",
            " 8   syn_flag_number  234745 non-null  float64\n",
            " 9   rst_flag_number  234745 non-null  float64\n",
            " 10  psh_flag_number  234745 non-null  float64\n",
            " 11  ack_flag_number  234745 non-null  float64\n",
            " 12  ece_flag_number  234745 non-null  float64\n",
            " 13  cwr_flag_number  234745 non-null  float64\n",
            " 14  ack_count        234745 non-null  float64\n",
            " 15  syn_count        234745 non-null  float64\n",
            " 16  fin_count        234745 non-null  float64\n",
            " 17  urg_count        234745 non-null  float64\n",
            " 18  rst_count        234745 non-null  float64\n",
            " 19  HTTP             234745 non-null  float64\n",
            " 20  HTTPS            234745 non-null  float64\n",
            " 21  DNS              234745 non-null  float64\n",
            " 22  Telnet           234745 non-null  float64\n",
            " 23  SMTP             234745 non-null  float64\n",
            " 24  SSH              234745 non-null  float64\n",
            " 25  IRC              234745 non-null  float64\n",
            " 26  TCP              234745 non-null  float64\n",
            " 27  UDP              234745 non-null  float64\n",
            " 28  DHCP             234745 non-null  float64\n",
            " 29  ARP              234745 non-null  float64\n",
            " 30  ICMP             234745 non-null  float64\n",
            " 31  IPv              234745 non-null  float64\n",
            " 32  LLC              234745 non-null  float64\n",
            " 33  Tot sum          234745 non-null  float64\n",
            " 34  Min              234745 non-null  float64\n",
            " 35  Max              234745 non-null  float64\n",
            " 36  AVG              234745 non-null  float64\n",
            " 37  Std              234745 non-null  float64\n",
            " 38  Tot size         234745 non-null  float64\n",
            " 39  IAT              234745 non-null  float64\n",
            " 40  Number           234745 non-null  float64\n",
            " 41  Magnitue         234745 non-null  float64\n",
            " 42  Radius           234745 non-null  float64\n",
            " 43  Covariance       234745 non-null  float64\n",
            " 44  Variance         234745 non-null  float64\n",
            " 45  Weight           234745 non-null  float64\n",
            " 46  label            234745 non-null  int32  \n",
            "dtypes: float64(46), int32(1)\n",
            "memory usage: 83.3 MB\n"
          ]
        }
      ],
      "source": [
        "dfTest.info()"
      ]
    },
    {
      "cell_type": "markdown",
      "metadata": {
        "id": "bd2M_GX1ldZ-"
      },
      "source": [
        "# Splitting the Data and Scaling\n",
        "The data is split into training and testing sets. This allows us to evaluate how our model performs on unseen data.\n"
      ]
    },
    {
      "cell_type": "code",
      "execution_count": 14,
      "metadata": {
        "id": "pfig4SSLlp4f"
      },
      "outputs": [],
      "source": [
        "# Data Splitting for training\n",
        "# Seperate Features and Columns\n",
        "y = dfTrain.pop('label').to_numpy()\n",
        "X = dfTrain.to_numpy()\n"
      ]
    },
    {
      "cell_type": "code",
      "execution_count": 15,
      "metadata": {
        "id": "A2Jjf8Pun6C9"
      },
      "outputs": [],
      "source": [
        "# Data Splitting for Testing\n",
        "# Seperate Features and Columns\n",
        "z = dfTest.pop('label').to_numpy()\n",
        "w = dfTest.to_numpy()"
      ]
    },
    {
      "cell_type": "code",
      "execution_count": 16,
      "metadata": {
        "id": "8lqOk7HNnojK"
      },
      "outputs": [],
      "source": [
        "#Scaling training\n",
        "scaler = StandardScaler()\n",
        "X_scaled = scaler.fit_transform(X)"
      ]
    },
    {
      "cell_type": "code",
      "execution_count": 17,
      "metadata": {
        "id": "IrOr_CfGoFjU"
      },
      "outputs": [],
      "source": [
        "#Scaling testing\n",
        "scaler = StandardScaler()\n",
        "w_scaled = scaler.fit_transform(w)"
      ]
    },
    {
      "cell_type": "markdown",
      "metadata": {
        "id": "9ALI4OAMpN24"
      },
      "source": [
        "# Training Models\n",
        "We will train several models and evaluate their performance. We start with Logistic Regression, followed by , Decision Tree, and Random Forest and finnaly XGboost"
      ]
    },
    {
      "cell_type": "code",
      "execution_count": 18,
      "metadata": {
        "id": "KIsH2wZitGND"
      },
      "outputs": [],
      "source": [
        "X_train,w_test,y_train,z_test=train_test_split(X_scaled,y,random_state=42,shuffle=True)"
      ]
    },
    {
      "cell_type": "code",
      "execution_count": 20,
      "metadata": {
        "colab": {
          "base_uri": "https://localhost:8080/",
          "height": 833
        },
        "id": "cF9_R9DHvn8b",
        "outputId": "2a180671-b8f3-4139-de9c-ecd7bf1db1e7"
      },
      "outputs": [
        {
          "name": "stdout",
          "output_type": "stream",
          "text": [
            "Logistic Regression : \n",
            "\n",
            "\n",
            "Confusion Matrix : \n",
            "\n"
          ]
        },
        {
          "data": {
            "application/vnd.plotly.v1+json": {
              "config": {
                "plotlyServerURL": "https://plot.ly"
              },
              "data": [
                {
                  "coloraxis": "coloraxis",
                  "hovertemplate": "x: %{x}<br>y: %{y}<br>color: %{z}<extra></extra>",
                  "name": "0",
                  "texttemplate": "%{z}",
                  "type": "heatmap",
                  "xaxis": "x",
                  "yaxis": "y",
                  "z": [
                    [
                      59171,
                      400
                    ],
                    [
                      307,
                      1035
                    ]
                  ]
                }
              ],
              "layout": {
                "coloraxis": {
                  "colorscale": [
                    [
                      0,
                      "rgb(103,0,31)"
                    ],
                    [
                      0.1,
                      "rgb(178,24,43)"
                    ],
                    [
                      0.2,
                      "rgb(214,96,77)"
                    ],
                    [
                      0.3,
                      "rgb(244,165,130)"
                    ],
                    [
                      0.4,
                      "rgb(253,219,199)"
                    ],
                    [
                      0.5,
                      "rgb(247,247,247)"
                    ],
                    [
                      0.6,
                      "rgb(209,229,240)"
                    ],
                    [
                      0.7,
                      "rgb(146,197,222)"
                    ],
                    [
                      0.8,
                      "rgb(67,147,195)"
                    ],
                    [
                      0.9,
                      "rgb(33,102,172)"
                    ],
                    [
                      1,
                      "rgb(5,48,97)"
                    ]
                  ]
                },
                "height": 400,
                "margin": {
                  "t": 60
                },
                "template": {
                  "data": {
                    "bar": [
                      {
                        "error_x": {
                          "color": "#2a3f5f"
                        },
                        "error_y": {
                          "color": "#2a3f5f"
                        },
                        "marker": {
                          "line": {
                            "color": "#E5ECF6",
                            "width": 0.5
                          },
                          "pattern": {
                            "fillmode": "overlay",
                            "size": 10,
                            "solidity": 0.2
                          }
                        },
                        "type": "bar"
                      }
                    ],
                    "barpolar": [
                      {
                        "marker": {
                          "line": {
                            "color": "#E5ECF6",
                            "width": 0.5
                          },
                          "pattern": {
                            "fillmode": "overlay",
                            "size": 10,
                            "solidity": 0.2
                          }
                        },
                        "type": "barpolar"
                      }
                    ],
                    "carpet": [
                      {
                        "aaxis": {
                          "endlinecolor": "#2a3f5f",
                          "gridcolor": "white",
                          "linecolor": "white",
                          "minorgridcolor": "white",
                          "startlinecolor": "#2a3f5f"
                        },
                        "baxis": {
                          "endlinecolor": "#2a3f5f",
                          "gridcolor": "white",
                          "linecolor": "white",
                          "minorgridcolor": "white",
                          "startlinecolor": "#2a3f5f"
                        },
                        "type": "carpet"
                      }
                    ],
                    "choropleth": [
                      {
                        "colorbar": {
                          "outlinewidth": 0,
                          "ticks": ""
                        },
                        "type": "choropleth"
                      }
                    ],
                    "contour": [
                      {
                        "colorbar": {
                          "outlinewidth": 0,
                          "ticks": ""
                        },
                        "colorscale": [
                          [
                            0,
                            "#0d0887"
                          ],
                          [
                            0.1111111111111111,
                            "#46039f"
                          ],
                          [
                            0.2222222222222222,
                            "#7201a8"
                          ],
                          [
                            0.3333333333333333,
                            "#9c179e"
                          ],
                          [
                            0.4444444444444444,
                            "#bd3786"
                          ],
                          [
                            0.5555555555555556,
                            "#d8576b"
                          ],
                          [
                            0.6666666666666666,
                            "#ed7953"
                          ],
                          [
                            0.7777777777777778,
                            "#fb9f3a"
                          ],
                          [
                            0.8888888888888888,
                            "#fdca26"
                          ],
                          [
                            1,
                            "#f0f921"
                          ]
                        ],
                        "type": "contour"
                      }
                    ],
                    "contourcarpet": [
                      {
                        "colorbar": {
                          "outlinewidth": 0,
                          "ticks": ""
                        },
                        "type": "contourcarpet"
                      }
                    ],
                    "heatmap": [
                      {
                        "colorbar": {
                          "outlinewidth": 0,
                          "ticks": ""
                        },
                        "colorscale": [
                          [
                            0,
                            "#0d0887"
                          ],
                          [
                            0.1111111111111111,
                            "#46039f"
                          ],
                          [
                            0.2222222222222222,
                            "#7201a8"
                          ],
                          [
                            0.3333333333333333,
                            "#9c179e"
                          ],
                          [
                            0.4444444444444444,
                            "#bd3786"
                          ],
                          [
                            0.5555555555555556,
                            "#d8576b"
                          ],
                          [
                            0.6666666666666666,
                            "#ed7953"
                          ],
                          [
                            0.7777777777777778,
                            "#fb9f3a"
                          ],
                          [
                            0.8888888888888888,
                            "#fdca26"
                          ],
                          [
                            1,
                            "#f0f921"
                          ]
                        ],
                        "type": "heatmap"
                      }
                    ],
                    "heatmapgl": [
                      {
                        "colorbar": {
                          "outlinewidth": 0,
                          "ticks": ""
                        },
                        "colorscale": [
                          [
                            0,
                            "#0d0887"
                          ],
                          [
                            0.1111111111111111,
                            "#46039f"
                          ],
                          [
                            0.2222222222222222,
                            "#7201a8"
                          ],
                          [
                            0.3333333333333333,
                            "#9c179e"
                          ],
                          [
                            0.4444444444444444,
                            "#bd3786"
                          ],
                          [
                            0.5555555555555556,
                            "#d8576b"
                          ],
                          [
                            0.6666666666666666,
                            "#ed7953"
                          ],
                          [
                            0.7777777777777778,
                            "#fb9f3a"
                          ],
                          [
                            0.8888888888888888,
                            "#fdca26"
                          ],
                          [
                            1,
                            "#f0f921"
                          ]
                        ],
                        "type": "heatmapgl"
                      }
                    ],
                    "histogram": [
                      {
                        "marker": {
                          "pattern": {
                            "fillmode": "overlay",
                            "size": 10,
                            "solidity": 0.2
                          }
                        },
                        "type": "histogram"
                      }
                    ],
                    "histogram2d": [
                      {
                        "colorbar": {
                          "outlinewidth": 0,
                          "ticks": ""
                        },
                        "colorscale": [
                          [
                            0,
                            "#0d0887"
                          ],
                          [
                            0.1111111111111111,
                            "#46039f"
                          ],
                          [
                            0.2222222222222222,
                            "#7201a8"
                          ],
                          [
                            0.3333333333333333,
                            "#9c179e"
                          ],
                          [
                            0.4444444444444444,
                            "#bd3786"
                          ],
                          [
                            0.5555555555555556,
                            "#d8576b"
                          ],
                          [
                            0.6666666666666666,
                            "#ed7953"
                          ],
                          [
                            0.7777777777777778,
                            "#fb9f3a"
                          ],
                          [
                            0.8888888888888888,
                            "#fdca26"
                          ],
                          [
                            1,
                            "#f0f921"
                          ]
                        ],
                        "type": "histogram2d"
                      }
                    ],
                    "histogram2dcontour": [
                      {
                        "colorbar": {
                          "outlinewidth": 0,
                          "ticks": ""
                        },
                        "colorscale": [
                          [
                            0,
                            "#0d0887"
                          ],
                          [
                            0.1111111111111111,
                            "#46039f"
                          ],
                          [
                            0.2222222222222222,
                            "#7201a8"
                          ],
                          [
                            0.3333333333333333,
                            "#9c179e"
                          ],
                          [
                            0.4444444444444444,
                            "#bd3786"
                          ],
                          [
                            0.5555555555555556,
                            "#d8576b"
                          ],
                          [
                            0.6666666666666666,
                            "#ed7953"
                          ],
                          [
                            0.7777777777777778,
                            "#fb9f3a"
                          ],
                          [
                            0.8888888888888888,
                            "#fdca26"
                          ],
                          [
                            1,
                            "#f0f921"
                          ]
                        ],
                        "type": "histogram2dcontour"
                      }
                    ],
                    "mesh3d": [
                      {
                        "colorbar": {
                          "outlinewidth": 0,
                          "ticks": ""
                        },
                        "type": "mesh3d"
                      }
                    ],
                    "parcoords": [
                      {
                        "line": {
                          "colorbar": {
                            "outlinewidth": 0,
                            "ticks": ""
                          }
                        },
                        "type": "parcoords"
                      }
                    ],
                    "pie": [
                      {
                        "automargin": true,
                        "type": "pie"
                      }
                    ],
                    "scatter": [
                      {
                        "fillpattern": {
                          "fillmode": "overlay",
                          "size": 10,
                          "solidity": 0.2
                        },
                        "type": "scatter"
                      }
                    ],
                    "scatter3d": [
                      {
                        "line": {
                          "colorbar": {
                            "outlinewidth": 0,
                            "ticks": ""
                          }
                        },
                        "marker": {
                          "colorbar": {
                            "outlinewidth": 0,
                            "ticks": ""
                          }
                        },
                        "type": "scatter3d"
                      }
                    ],
                    "scattercarpet": [
                      {
                        "marker": {
                          "colorbar": {
                            "outlinewidth": 0,
                            "ticks": ""
                          }
                        },
                        "type": "scattercarpet"
                      }
                    ],
                    "scattergeo": [
                      {
                        "marker": {
                          "colorbar": {
                            "outlinewidth": 0,
                            "ticks": ""
                          }
                        },
                        "type": "scattergeo"
                      }
                    ],
                    "scattergl": [
                      {
                        "marker": {
                          "colorbar": {
                            "outlinewidth": 0,
                            "ticks": ""
                          }
                        },
                        "type": "scattergl"
                      }
                    ],
                    "scattermapbox": [
                      {
                        "marker": {
                          "colorbar": {
                            "outlinewidth": 0,
                            "ticks": ""
                          }
                        },
                        "type": "scattermapbox"
                      }
                    ],
                    "scatterpolar": [
                      {
                        "marker": {
                          "colorbar": {
                            "outlinewidth": 0,
                            "ticks": ""
                          }
                        },
                        "type": "scatterpolar"
                      }
                    ],
                    "scatterpolargl": [
                      {
                        "marker": {
                          "colorbar": {
                            "outlinewidth": 0,
                            "ticks": ""
                          }
                        },
                        "type": "scatterpolargl"
                      }
                    ],
                    "scatterternary": [
                      {
                        "marker": {
                          "colorbar": {
                            "outlinewidth": 0,
                            "ticks": ""
                          }
                        },
                        "type": "scatterternary"
                      }
                    ],
                    "surface": [
                      {
                        "colorbar": {
                          "outlinewidth": 0,
                          "ticks": ""
                        },
                        "colorscale": [
                          [
                            0,
                            "#0d0887"
                          ],
                          [
                            0.1111111111111111,
                            "#46039f"
                          ],
                          [
                            0.2222222222222222,
                            "#7201a8"
                          ],
                          [
                            0.3333333333333333,
                            "#9c179e"
                          ],
                          [
                            0.4444444444444444,
                            "#bd3786"
                          ],
                          [
                            0.5555555555555556,
                            "#d8576b"
                          ],
                          [
                            0.6666666666666666,
                            "#ed7953"
                          ],
                          [
                            0.7777777777777778,
                            "#fb9f3a"
                          ],
                          [
                            0.8888888888888888,
                            "#fdca26"
                          ],
                          [
                            1,
                            "#f0f921"
                          ]
                        ],
                        "type": "surface"
                      }
                    ],
                    "table": [
                      {
                        "cells": {
                          "fill": {
                            "color": "#EBF0F8"
                          },
                          "line": {
                            "color": "white"
                          }
                        },
                        "header": {
                          "fill": {
                            "color": "#C8D4E3"
                          },
                          "line": {
                            "color": "white"
                          }
                        },
                        "type": "table"
                      }
                    ]
                  },
                  "layout": {
                    "annotationdefaults": {
                      "arrowcolor": "#2a3f5f",
                      "arrowhead": 0,
                      "arrowwidth": 1
                    },
                    "autotypenumbers": "strict",
                    "coloraxis": {
                      "colorbar": {
                        "outlinewidth": 0,
                        "ticks": ""
                      }
                    },
                    "colorscale": {
                      "diverging": [
                        [
                          0,
                          "#8e0152"
                        ],
                        [
                          0.1,
                          "#c51b7d"
                        ],
                        [
                          0.2,
                          "#de77ae"
                        ],
                        [
                          0.3,
                          "#f1b6da"
                        ],
                        [
                          0.4,
                          "#fde0ef"
                        ],
                        [
                          0.5,
                          "#f7f7f7"
                        ],
                        [
                          0.6,
                          "#e6f5d0"
                        ],
                        [
                          0.7,
                          "#b8e186"
                        ],
                        [
                          0.8,
                          "#7fbc41"
                        ],
                        [
                          0.9,
                          "#4d9221"
                        ],
                        [
                          1,
                          "#276419"
                        ]
                      ],
                      "sequential": [
                        [
                          0,
                          "#0d0887"
                        ],
                        [
                          0.1111111111111111,
                          "#46039f"
                        ],
                        [
                          0.2222222222222222,
                          "#7201a8"
                        ],
                        [
                          0.3333333333333333,
                          "#9c179e"
                        ],
                        [
                          0.4444444444444444,
                          "#bd3786"
                        ],
                        [
                          0.5555555555555556,
                          "#d8576b"
                        ],
                        [
                          0.6666666666666666,
                          "#ed7953"
                        ],
                        [
                          0.7777777777777778,
                          "#fb9f3a"
                        ],
                        [
                          0.8888888888888888,
                          "#fdca26"
                        ],
                        [
                          1,
                          "#f0f921"
                        ]
                      ],
                      "sequentialminus": [
                        [
                          0,
                          "#0d0887"
                        ],
                        [
                          0.1111111111111111,
                          "#46039f"
                        ],
                        [
                          0.2222222222222222,
                          "#7201a8"
                        ],
                        [
                          0.3333333333333333,
                          "#9c179e"
                        ],
                        [
                          0.4444444444444444,
                          "#bd3786"
                        ],
                        [
                          0.5555555555555556,
                          "#d8576b"
                        ],
                        [
                          0.6666666666666666,
                          "#ed7953"
                        ],
                        [
                          0.7777777777777778,
                          "#fb9f3a"
                        ],
                        [
                          0.8888888888888888,
                          "#fdca26"
                        ],
                        [
                          1,
                          "#f0f921"
                        ]
                      ]
                    },
                    "colorway": [
                      "#636efa",
                      "#EF553B",
                      "#00cc96",
                      "#ab63fa",
                      "#FFA15A",
                      "#19d3f3",
                      "#FF6692",
                      "#B6E880",
                      "#FF97FF",
                      "#FECB52"
                    ],
                    "font": {
                      "color": "#2a3f5f"
                    },
                    "geo": {
                      "bgcolor": "white",
                      "lakecolor": "white",
                      "landcolor": "#E5ECF6",
                      "showlakes": true,
                      "showland": true,
                      "subunitcolor": "white"
                    },
                    "hoverlabel": {
                      "align": "left"
                    },
                    "hovermode": "closest",
                    "mapbox": {
                      "style": "light"
                    },
                    "paper_bgcolor": "white",
                    "plot_bgcolor": "#E5ECF6",
                    "polar": {
                      "angularaxis": {
                        "gridcolor": "white",
                        "linecolor": "white",
                        "ticks": ""
                      },
                      "bgcolor": "#E5ECF6",
                      "radialaxis": {
                        "gridcolor": "white",
                        "linecolor": "white",
                        "ticks": ""
                      }
                    },
                    "scene": {
                      "xaxis": {
                        "backgroundcolor": "#E5ECF6",
                        "gridcolor": "white",
                        "gridwidth": 2,
                        "linecolor": "white",
                        "showbackground": true,
                        "ticks": "",
                        "zerolinecolor": "white"
                      },
                      "yaxis": {
                        "backgroundcolor": "#E5ECF6",
                        "gridcolor": "white",
                        "gridwidth": 2,
                        "linecolor": "white",
                        "showbackground": true,
                        "ticks": "",
                        "zerolinecolor": "white"
                      },
                      "zaxis": {
                        "backgroundcolor": "#E5ECF6",
                        "gridcolor": "white",
                        "gridwidth": 2,
                        "linecolor": "white",
                        "showbackground": true,
                        "ticks": "",
                        "zerolinecolor": "white"
                      }
                    },
                    "shapedefaults": {
                      "line": {
                        "color": "#2a3f5f"
                      }
                    },
                    "ternary": {
                      "aaxis": {
                        "gridcolor": "white",
                        "linecolor": "white",
                        "ticks": ""
                      },
                      "baxis": {
                        "gridcolor": "white",
                        "linecolor": "white",
                        "ticks": ""
                      },
                      "bgcolor": "#E5ECF6",
                      "caxis": {
                        "gridcolor": "white",
                        "linecolor": "white",
                        "ticks": ""
                      }
                    },
                    "title": {
                      "x": 0.05
                    },
                    "xaxis": {
                      "automargin": true,
                      "gridcolor": "white",
                      "linecolor": "white",
                      "ticks": "",
                      "title": {
                        "standoff": 15
                      },
                      "zerolinecolor": "white",
                      "zerolinewidth": 2
                    },
                    "yaxis": {
                      "automargin": true,
                      "gridcolor": "white",
                      "linecolor": "white",
                      "ticks": "",
                      "title": {
                        "standoff": 15
                      },
                      "zerolinecolor": "white",
                      "zerolinewidth": 2
                    }
                  }
                },
                "width": 400,
                "xaxis": {
                  "anchor": "y",
                  "constrain": "domain",
                  "domain": [
                    0,
                    1
                  ],
                  "scaleanchor": "y"
                },
                "yaxis": {
                  "anchor": "x",
                  "autorange": "reversed",
                  "constrain": "domain",
                  "domain": [
                    0,
                    1
                  ]
                }
              }
            }
          },
          "metadata": {},
          "output_type": "display_data"
        },
        {
          "name": "stdout",
          "output_type": "stream",
          "text": [
            "              precision    recall  f1-score   support\n",
            "\n",
            "           0       0.99      0.99      0.99     59478\n",
            "           1       0.77      0.72      0.75      1435\n",
            "\n",
            "    accuracy                           0.99     60913\n",
            "   macro avg       0.88      0.86      0.87     60913\n",
            "weighted avg       0.99      0.99      0.99     60913\n",
            "\n"
          ]
        }
      ],
      "source": [
        "# ML Models\n",
        "\n",
        "# Logistic regression\n",
        "lr = LogisticRegression()\n",
        "lr.fit(X_train, y_train)\n",
        "\n",
        "# Prediction\n",
        "pred = lr.predict(w_test)\n",
        "\n",
        "# Calc  confusionmatrix\n",
        "cm = confusion_matrix(pred, z_test)\n",
        "\n",
        "# Show CM and classification_repor\n",
        "print(\"Logistic Regression : \\n\")\n",
        "print(f\"\\nConfusion Matrix : \\n\")\n",
        "fig = px.imshow(cm, text_auto=True, color_continuous_scale='rdbu', width=400, height=400)\n",
        "fig.show()\n",
        "print(classification_report(z_test, pred))"
      ]
    },
    {
      "cell_type": "code",
      "execution_count": 21,
      "metadata": {
        "colab": {
          "base_uri": "https://localhost:8080/",
          "height": 643
        },
        "id": "vWb7pZ-9woYd",
        "outputId": "38e54a12-5e65-4da8-bf46-bac1e0376d82"
      },
      "outputs": [
        {
          "name": "stdout",
          "output_type": "stream",
          "text": [
            "Decision Tree Classifier : \n",
            "\n",
            "\n",
            "Confusion Matrix :\n"
          ]
        },
        {
          "data": {
            "application/vnd.plotly.v1+json": {
              "config": {
                "plotlyServerURL": "https://plot.ly"
              },
              "data": [
                {
                  "coloraxis": "coloraxis",
                  "hovertemplate": "x: %{x}<br>y: %{y}<br>color: %{z}<extra></extra>",
                  "name": "0",
                  "texttemplate": "%{z}",
                  "type": "heatmap",
                  "xaxis": "x",
                  "yaxis": "y",
                  "z": [
                    [
                      59351,
                      121
                    ],
                    [
                      127,
                      1314
                    ]
                  ]
                }
              ],
              "layout": {
                "coloraxis": {
                  "colorscale": [
                    [
                      0,
                      "rgb(103,0,31)"
                    ],
                    [
                      0.1,
                      "rgb(178,24,43)"
                    ],
                    [
                      0.2,
                      "rgb(214,96,77)"
                    ],
                    [
                      0.3,
                      "rgb(244,165,130)"
                    ],
                    [
                      0.4,
                      "rgb(253,219,199)"
                    ],
                    [
                      0.5,
                      "rgb(247,247,247)"
                    ],
                    [
                      0.6,
                      "rgb(209,229,240)"
                    ],
                    [
                      0.7,
                      "rgb(146,197,222)"
                    ],
                    [
                      0.8,
                      "rgb(67,147,195)"
                    ],
                    [
                      0.9,
                      "rgb(33,102,172)"
                    ],
                    [
                      1,
                      "rgb(5,48,97)"
                    ]
                  ]
                },
                "height": 400,
                "margin": {
                  "t": 60
                },
                "template": {
                  "data": {
                    "bar": [
                      {
                        "error_x": {
                          "color": "#2a3f5f"
                        },
                        "error_y": {
                          "color": "#2a3f5f"
                        },
                        "marker": {
                          "line": {
                            "color": "#E5ECF6",
                            "width": 0.5
                          },
                          "pattern": {
                            "fillmode": "overlay",
                            "size": 10,
                            "solidity": 0.2
                          }
                        },
                        "type": "bar"
                      }
                    ],
                    "barpolar": [
                      {
                        "marker": {
                          "line": {
                            "color": "#E5ECF6",
                            "width": 0.5
                          },
                          "pattern": {
                            "fillmode": "overlay",
                            "size": 10,
                            "solidity": 0.2
                          }
                        },
                        "type": "barpolar"
                      }
                    ],
                    "carpet": [
                      {
                        "aaxis": {
                          "endlinecolor": "#2a3f5f",
                          "gridcolor": "white",
                          "linecolor": "white",
                          "minorgridcolor": "white",
                          "startlinecolor": "#2a3f5f"
                        },
                        "baxis": {
                          "endlinecolor": "#2a3f5f",
                          "gridcolor": "white",
                          "linecolor": "white",
                          "minorgridcolor": "white",
                          "startlinecolor": "#2a3f5f"
                        },
                        "type": "carpet"
                      }
                    ],
                    "choropleth": [
                      {
                        "colorbar": {
                          "outlinewidth": 0,
                          "ticks": ""
                        },
                        "type": "choropleth"
                      }
                    ],
                    "contour": [
                      {
                        "colorbar": {
                          "outlinewidth": 0,
                          "ticks": ""
                        },
                        "colorscale": [
                          [
                            0,
                            "#0d0887"
                          ],
                          [
                            0.1111111111111111,
                            "#46039f"
                          ],
                          [
                            0.2222222222222222,
                            "#7201a8"
                          ],
                          [
                            0.3333333333333333,
                            "#9c179e"
                          ],
                          [
                            0.4444444444444444,
                            "#bd3786"
                          ],
                          [
                            0.5555555555555556,
                            "#d8576b"
                          ],
                          [
                            0.6666666666666666,
                            "#ed7953"
                          ],
                          [
                            0.7777777777777778,
                            "#fb9f3a"
                          ],
                          [
                            0.8888888888888888,
                            "#fdca26"
                          ],
                          [
                            1,
                            "#f0f921"
                          ]
                        ],
                        "type": "contour"
                      }
                    ],
                    "contourcarpet": [
                      {
                        "colorbar": {
                          "outlinewidth": 0,
                          "ticks": ""
                        },
                        "type": "contourcarpet"
                      }
                    ],
                    "heatmap": [
                      {
                        "colorbar": {
                          "outlinewidth": 0,
                          "ticks": ""
                        },
                        "colorscale": [
                          [
                            0,
                            "#0d0887"
                          ],
                          [
                            0.1111111111111111,
                            "#46039f"
                          ],
                          [
                            0.2222222222222222,
                            "#7201a8"
                          ],
                          [
                            0.3333333333333333,
                            "#9c179e"
                          ],
                          [
                            0.4444444444444444,
                            "#bd3786"
                          ],
                          [
                            0.5555555555555556,
                            "#d8576b"
                          ],
                          [
                            0.6666666666666666,
                            "#ed7953"
                          ],
                          [
                            0.7777777777777778,
                            "#fb9f3a"
                          ],
                          [
                            0.8888888888888888,
                            "#fdca26"
                          ],
                          [
                            1,
                            "#f0f921"
                          ]
                        ],
                        "type": "heatmap"
                      }
                    ],
                    "heatmapgl": [
                      {
                        "colorbar": {
                          "outlinewidth": 0,
                          "ticks": ""
                        },
                        "colorscale": [
                          [
                            0,
                            "#0d0887"
                          ],
                          [
                            0.1111111111111111,
                            "#46039f"
                          ],
                          [
                            0.2222222222222222,
                            "#7201a8"
                          ],
                          [
                            0.3333333333333333,
                            "#9c179e"
                          ],
                          [
                            0.4444444444444444,
                            "#bd3786"
                          ],
                          [
                            0.5555555555555556,
                            "#d8576b"
                          ],
                          [
                            0.6666666666666666,
                            "#ed7953"
                          ],
                          [
                            0.7777777777777778,
                            "#fb9f3a"
                          ],
                          [
                            0.8888888888888888,
                            "#fdca26"
                          ],
                          [
                            1,
                            "#f0f921"
                          ]
                        ],
                        "type": "heatmapgl"
                      }
                    ],
                    "histogram": [
                      {
                        "marker": {
                          "pattern": {
                            "fillmode": "overlay",
                            "size": 10,
                            "solidity": 0.2
                          }
                        },
                        "type": "histogram"
                      }
                    ],
                    "histogram2d": [
                      {
                        "colorbar": {
                          "outlinewidth": 0,
                          "ticks": ""
                        },
                        "colorscale": [
                          [
                            0,
                            "#0d0887"
                          ],
                          [
                            0.1111111111111111,
                            "#46039f"
                          ],
                          [
                            0.2222222222222222,
                            "#7201a8"
                          ],
                          [
                            0.3333333333333333,
                            "#9c179e"
                          ],
                          [
                            0.4444444444444444,
                            "#bd3786"
                          ],
                          [
                            0.5555555555555556,
                            "#d8576b"
                          ],
                          [
                            0.6666666666666666,
                            "#ed7953"
                          ],
                          [
                            0.7777777777777778,
                            "#fb9f3a"
                          ],
                          [
                            0.8888888888888888,
                            "#fdca26"
                          ],
                          [
                            1,
                            "#f0f921"
                          ]
                        ],
                        "type": "histogram2d"
                      }
                    ],
                    "histogram2dcontour": [
                      {
                        "colorbar": {
                          "outlinewidth": 0,
                          "ticks": ""
                        },
                        "colorscale": [
                          [
                            0,
                            "#0d0887"
                          ],
                          [
                            0.1111111111111111,
                            "#46039f"
                          ],
                          [
                            0.2222222222222222,
                            "#7201a8"
                          ],
                          [
                            0.3333333333333333,
                            "#9c179e"
                          ],
                          [
                            0.4444444444444444,
                            "#bd3786"
                          ],
                          [
                            0.5555555555555556,
                            "#d8576b"
                          ],
                          [
                            0.6666666666666666,
                            "#ed7953"
                          ],
                          [
                            0.7777777777777778,
                            "#fb9f3a"
                          ],
                          [
                            0.8888888888888888,
                            "#fdca26"
                          ],
                          [
                            1,
                            "#f0f921"
                          ]
                        ],
                        "type": "histogram2dcontour"
                      }
                    ],
                    "mesh3d": [
                      {
                        "colorbar": {
                          "outlinewidth": 0,
                          "ticks": ""
                        },
                        "type": "mesh3d"
                      }
                    ],
                    "parcoords": [
                      {
                        "line": {
                          "colorbar": {
                            "outlinewidth": 0,
                            "ticks": ""
                          }
                        },
                        "type": "parcoords"
                      }
                    ],
                    "pie": [
                      {
                        "automargin": true,
                        "type": "pie"
                      }
                    ],
                    "scatter": [
                      {
                        "fillpattern": {
                          "fillmode": "overlay",
                          "size": 10,
                          "solidity": 0.2
                        },
                        "type": "scatter"
                      }
                    ],
                    "scatter3d": [
                      {
                        "line": {
                          "colorbar": {
                            "outlinewidth": 0,
                            "ticks": ""
                          }
                        },
                        "marker": {
                          "colorbar": {
                            "outlinewidth": 0,
                            "ticks": ""
                          }
                        },
                        "type": "scatter3d"
                      }
                    ],
                    "scattercarpet": [
                      {
                        "marker": {
                          "colorbar": {
                            "outlinewidth": 0,
                            "ticks": ""
                          }
                        },
                        "type": "scattercarpet"
                      }
                    ],
                    "scattergeo": [
                      {
                        "marker": {
                          "colorbar": {
                            "outlinewidth": 0,
                            "ticks": ""
                          }
                        },
                        "type": "scattergeo"
                      }
                    ],
                    "scattergl": [
                      {
                        "marker": {
                          "colorbar": {
                            "outlinewidth": 0,
                            "ticks": ""
                          }
                        },
                        "type": "scattergl"
                      }
                    ],
                    "scattermapbox": [
                      {
                        "marker": {
                          "colorbar": {
                            "outlinewidth": 0,
                            "ticks": ""
                          }
                        },
                        "type": "scattermapbox"
                      }
                    ],
                    "scatterpolar": [
                      {
                        "marker": {
                          "colorbar": {
                            "outlinewidth": 0,
                            "ticks": ""
                          }
                        },
                        "type": "scatterpolar"
                      }
                    ],
                    "scatterpolargl": [
                      {
                        "marker": {
                          "colorbar": {
                            "outlinewidth": 0,
                            "ticks": ""
                          }
                        },
                        "type": "scatterpolargl"
                      }
                    ],
                    "scatterternary": [
                      {
                        "marker": {
                          "colorbar": {
                            "outlinewidth": 0,
                            "ticks": ""
                          }
                        },
                        "type": "scatterternary"
                      }
                    ],
                    "surface": [
                      {
                        "colorbar": {
                          "outlinewidth": 0,
                          "ticks": ""
                        },
                        "colorscale": [
                          [
                            0,
                            "#0d0887"
                          ],
                          [
                            0.1111111111111111,
                            "#46039f"
                          ],
                          [
                            0.2222222222222222,
                            "#7201a8"
                          ],
                          [
                            0.3333333333333333,
                            "#9c179e"
                          ],
                          [
                            0.4444444444444444,
                            "#bd3786"
                          ],
                          [
                            0.5555555555555556,
                            "#d8576b"
                          ],
                          [
                            0.6666666666666666,
                            "#ed7953"
                          ],
                          [
                            0.7777777777777778,
                            "#fb9f3a"
                          ],
                          [
                            0.8888888888888888,
                            "#fdca26"
                          ],
                          [
                            1,
                            "#f0f921"
                          ]
                        ],
                        "type": "surface"
                      }
                    ],
                    "table": [
                      {
                        "cells": {
                          "fill": {
                            "color": "#EBF0F8"
                          },
                          "line": {
                            "color": "white"
                          }
                        },
                        "header": {
                          "fill": {
                            "color": "#C8D4E3"
                          },
                          "line": {
                            "color": "white"
                          }
                        },
                        "type": "table"
                      }
                    ]
                  },
                  "layout": {
                    "annotationdefaults": {
                      "arrowcolor": "#2a3f5f",
                      "arrowhead": 0,
                      "arrowwidth": 1
                    },
                    "autotypenumbers": "strict",
                    "coloraxis": {
                      "colorbar": {
                        "outlinewidth": 0,
                        "ticks": ""
                      }
                    },
                    "colorscale": {
                      "diverging": [
                        [
                          0,
                          "#8e0152"
                        ],
                        [
                          0.1,
                          "#c51b7d"
                        ],
                        [
                          0.2,
                          "#de77ae"
                        ],
                        [
                          0.3,
                          "#f1b6da"
                        ],
                        [
                          0.4,
                          "#fde0ef"
                        ],
                        [
                          0.5,
                          "#f7f7f7"
                        ],
                        [
                          0.6,
                          "#e6f5d0"
                        ],
                        [
                          0.7,
                          "#b8e186"
                        ],
                        [
                          0.8,
                          "#7fbc41"
                        ],
                        [
                          0.9,
                          "#4d9221"
                        ],
                        [
                          1,
                          "#276419"
                        ]
                      ],
                      "sequential": [
                        [
                          0,
                          "#0d0887"
                        ],
                        [
                          0.1111111111111111,
                          "#46039f"
                        ],
                        [
                          0.2222222222222222,
                          "#7201a8"
                        ],
                        [
                          0.3333333333333333,
                          "#9c179e"
                        ],
                        [
                          0.4444444444444444,
                          "#bd3786"
                        ],
                        [
                          0.5555555555555556,
                          "#d8576b"
                        ],
                        [
                          0.6666666666666666,
                          "#ed7953"
                        ],
                        [
                          0.7777777777777778,
                          "#fb9f3a"
                        ],
                        [
                          0.8888888888888888,
                          "#fdca26"
                        ],
                        [
                          1,
                          "#f0f921"
                        ]
                      ],
                      "sequentialminus": [
                        [
                          0,
                          "#0d0887"
                        ],
                        [
                          0.1111111111111111,
                          "#46039f"
                        ],
                        [
                          0.2222222222222222,
                          "#7201a8"
                        ],
                        [
                          0.3333333333333333,
                          "#9c179e"
                        ],
                        [
                          0.4444444444444444,
                          "#bd3786"
                        ],
                        [
                          0.5555555555555556,
                          "#d8576b"
                        ],
                        [
                          0.6666666666666666,
                          "#ed7953"
                        ],
                        [
                          0.7777777777777778,
                          "#fb9f3a"
                        ],
                        [
                          0.8888888888888888,
                          "#fdca26"
                        ],
                        [
                          1,
                          "#f0f921"
                        ]
                      ]
                    },
                    "colorway": [
                      "#636efa",
                      "#EF553B",
                      "#00cc96",
                      "#ab63fa",
                      "#FFA15A",
                      "#19d3f3",
                      "#FF6692",
                      "#B6E880",
                      "#FF97FF",
                      "#FECB52"
                    ],
                    "font": {
                      "color": "#2a3f5f"
                    },
                    "geo": {
                      "bgcolor": "white",
                      "lakecolor": "white",
                      "landcolor": "#E5ECF6",
                      "showlakes": true,
                      "showland": true,
                      "subunitcolor": "white"
                    },
                    "hoverlabel": {
                      "align": "left"
                    },
                    "hovermode": "closest",
                    "mapbox": {
                      "style": "light"
                    },
                    "paper_bgcolor": "white",
                    "plot_bgcolor": "#E5ECF6",
                    "polar": {
                      "angularaxis": {
                        "gridcolor": "white",
                        "linecolor": "white",
                        "ticks": ""
                      },
                      "bgcolor": "#E5ECF6",
                      "radialaxis": {
                        "gridcolor": "white",
                        "linecolor": "white",
                        "ticks": ""
                      }
                    },
                    "scene": {
                      "xaxis": {
                        "backgroundcolor": "#E5ECF6",
                        "gridcolor": "white",
                        "gridwidth": 2,
                        "linecolor": "white",
                        "showbackground": true,
                        "ticks": "",
                        "zerolinecolor": "white"
                      },
                      "yaxis": {
                        "backgroundcolor": "#E5ECF6",
                        "gridcolor": "white",
                        "gridwidth": 2,
                        "linecolor": "white",
                        "showbackground": true,
                        "ticks": "",
                        "zerolinecolor": "white"
                      },
                      "zaxis": {
                        "backgroundcolor": "#E5ECF6",
                        "gridcolor": "white",
                        "gridwidth": 2,
                        "linecolor": "white",
                        "showbackground": true,
                        "ticks": "",
                        "zerolinecolor": "white"
                      }
                    },
                    "shapedefaults": {
                      "line": {
                        "color": "#2a3f5f"
                      }
                    },
                    "ternary": {
                      "aaxis": {
                        "gridcolor": "white",
                        "linecolor": "white",
                        "ticks": ""
                      },
                      "baxis": {
                        "gridcolor": "white",
                        "linecolor": "white",
                        "ticks": ""
                      },
                      "bgcolor": "#E5ECF6",
                      "caxis": {
                        "gridcolor": "white",
                        "linecolor": "white",
                        "ticks": ""
                      }
                    },
                    "title": {
                      "x": 0.05
                    },
                    "xaxis": {
                      "automargin": true,
                      "gridcolor": "white",
                      "linecolor": "white",
                      "ticks": "",
                      "title": {
                        "standoff": 15
                      },
                      "zerolinecolor": "white",
                      "zerolinewidth": 2
                    },
                    "yaxis": {
                      "automargin": true,
                      "gridcolor": "white",
                      "linecolor": "white",
                      "ticks": "",
                      "title": {
                        "standoff": 15
                      },
                      "zerolinecolor": "white",
                      "zerolinewidth": 2
                    }
                  }
                },
                "width": 400,
                "xaxis": {
                  "anchor": "y",
                  "constrain": "domain",
                  "domain": [
                    0,
                    1
                  ],
                  "scaleanchor": "y"
                },
                "yaxis": {
                  "anchor": "x",
                  "autorange": "reversed",
                  "constrain": "domain",
                  "domain": [
                    0,
                    1
                  ]
                }
              }
            }
          },
          "metadata": {},
          "output_type": "display_data"
        },
        {
          "name": "stdout",
          "output_type": "stream",
          "text": [
            "              precision    recall  f1-score   support\n",
            "\n",
            "           0       1.00      1.00      1.00     59478\n",
            "           1       0.91      0.92      0.91      1435\n",
            "\n",
            "    accuracy                           1.00     60913\n",
            "   macro avg       0.95      0.96      0.96     60913\n",
            "weighted avg       1.00      1.00      1.00     60913\n",
            "\n"
          ]
        }
      ],
      "source": [
        "# Decision Tree Classifier\n",
        "dtc = DecisionTreeClassifier()\n",
        "dtc.fit(X_train, y_train)\n",
        "\n",
        "# Prediction\n",
        "pred = dtc.predict(w_test)\n",
        "\n",
        "# Calc  confusion matrix\n",
        "cm = confusion_matrix(pred, z_test)\n",
        "\n",
        "# Show CM and classification_repor\n",
        "print(\"Decision Tree Classifier : \\n\")\n",
        "print(f\"\\nConfusion Matrix :\")\n",
        "fig = px.imshow(cm, text_auto=True, color_continuous_scale='rdbu', width=400, height=400)\n",
        "fig.show()\n",
        "print(classification_report(z_test, pred))"
      ]
    },
    {
      "cell_type": "markdown",
      "metadata": {
        "id": "_7quUXJrxVgE"
      },
      "source": [
        "\n",
        "\n",
        "```\n",
        "# This is formatted as code\n",
        "```\n",
        "\n",
        "# Feature Importance\n",
        "Let's look at the most important features according to the decision tree model.\n"
      ]
    },
    {
      "cell_type": "code",
      "execution_count": 22,
      "metadata": {
        "colab": {
          "base_uri": "https://localhost:8080/",
          "height": 499
        },
        "id": "UtZhLbMsxQHc",
        "outputId": "73ffd366-5ff0-4be8-ad52-c45ff6ecc709"
      },
      "outputs": [
        {
          "data": {
            "image/png": "[encoded data removed]",
            "text/plain": [
              "<Figure size 640x480 with 1 Axes>"
            ]
          },
          "metadata": {},
          "output_type": "display_data"
        },
        {
          "name": "stdout",
          "output_type": "stream",
          "text": [
            "The 3 most important features are: \n",
            "rst_count : 0.5970914413732336\n",
            "Tot size : 0.21420435219897463\n",
            "urg_count : 0.03360566283928691\n"
          ]
        }
      ],
      "source": [
        "# Feature Importance for Decision Tree\n",
        "importance = dtc.feature_importances_\n",
        "# plot feature importance\n",
        "plt.bar([x for x in range(len(importance))], importance)\n",
        "plt.show()\n",
        "\n",
        "# print the 3 most important features\n",
        "print(\"The 3 most important features are: \")\n",
        "for i in range(3):\n",
        "    print(dfTrain.columns[np.argmax(importance)], \":\", np.max(importance))\n",
        "    importance = np.delete(importance, np.argmax(importance))\n",
        "\n",
        "\n"
      ]
    },
    {
      "cell_type": "code",
      "execution_count": 23,
      "metadata": {
        "colab": {
          "base_uri": "https://localhost:8080/",
          "height": 643
        },
        "id": "tYfUzPBEy2kb",
        "outputId": "3a4d3d2e-e1ca-48bd-afc9-0412621c64a0"
      },
      "outputs": [
        {
          "name": "stdout",
          "output_type": "stream",
          "text": [
            "Random Forest Classifier : \n",
            "\n",
            "\n",
            "Confusion Matrix :\n"
          ]
        },
        {
          "data": {
            "application/vnd.plotly.v1+json": {
              "config": {
                "plotlyServerURL": "https://plot.ly"
              },
              "data": [
                {
                  "coloraxis": "coloraxis",
                  "hovertemplate": "x: %{x}<br>y: %{y}<br>color: %{z}<extra></extra>",
                  "name": "0",
                  "texttemplate": "%{z}",
                  "type": "heatmap",
                  "xaxis": "x",
                  "yaxis": "y",
                  "z": [
                    [
                      59247,
                      196
                    ],
                    [
                      231,
                      1239
                    ]
                  ]
                }
              ],
              "layout": {
                "coloraxis": {
                  "colorscale": [
                    [
                      0,
                      "rgb(103,0,31)"
                    ],
                    [
                      0.1,
                      "rgb(178,24,43)"
                    ],
                    [
                      0.2,
                      "rgb(214,96,77)"
                    ],
                    [
                      0.3,
                      "rgb(244,165,130)"
                    ],
                    [
                      0.4,
                      "rgb(253,219,199)"
                    ],
                    [
                      0.5,
                      "rgb(247,247,247)"
                    ],
                    [
                      0.6,
                      "rgb(209,229,240)"
                    ],
                    [
                      0.7,
                      "rgb(146,197,222)"
                    ],
                    [
                      0.8,
                      "rgb(67,147,195)"
                    ],
                    [
                      0.9,
                      "rgb(33,102,172)"
                    ],
                    [
                      1,
                      "rgb(5,48,97)"
                    ]
                  ]
                },
                "height": 400,
                "margin": {
                  "t": 60
                },
                "template": {
                  "data": {
                    "bar": [
                      {
                        "error_x": {
                          "color": "#2a3f5f"
                        },
                        "error_y": {
                          "color": "#2a3f5f"
                        },
                        "marker": {
                          "line": {
                            "color": "#E5ECF6",
                            "width": 0.5
                          },
                          "pattern": {
                            "fillmode": "overlay",
                            "size": 10,
                            "solidity": 0.2
                          }
                        },
                        "type": "bar"
                      }
                    ],
                    "barpolar": [
                      {
                        "marker": {
                          "line": {
                            "color": "#E5ECF6",
                            "width": 0.5
                          },
                          "pattern": {
                            "fillmode": "overlay",
                            "size": 10,
                            "solidity": 0.2
                          }
                        },
                        "type": "barpolar"
                      }
                    ],
                    "carpet": [
                      {
                        "aaxis": {
                          "endlinecolor": "#2a3f5f",
                          "gridcolor": "white",
                          "linecolor": "white",
                          "minorgridcolor": "white",
                          "startlinecolor": "#2a3f5f"
                        },
                        "baxis": {
                          "endlinecolor": "#2a3f5f",
                          "gridcolor": "white",
                          "linecolor": "white",
                          "minorgridcolor": "white",
                          "startlinecolor": "#2a3f5f"
                        },
                        "type": "carpet"
                      }
                    ],
                    "choropleth": [
                      {
                        "colorbar": {
                          "outlinewidth": 0,
                          "ticks": ""
                        },
                        "type": "choropleth"
                      }
                    ],
                    "contour": [
                      {
                        "colorbar": {
                          "outlinewidth": 0,
                          "ticks": ""
                        },
                        "colorscale": [
                          [
                            0,
                            "#0d0887"
                          ],
                          [
                            0.1111111111111111,
                            "#46039f"
                          ],
                          [
                            0.2222222222222222,
                            "#7201a8"
                          ],
                          [
                            0.3333333333333333,
                            "#9c179e"
                          ],
                          [
                            0.4444444444444444,
                            "#bd3786"
                          ],
                          [
                            0.5555555555555556,
                            "#d8576b"
                          ],
                          [
                            0.6666666666666666,
                            "#ed7953"
                          ],
                          [
                            0.7777777777777778,
                            "#fb9f3a"
                          ],
                          [
                            0.8888888888888888,
                            "#fdca26"
                          ],
                          [
                            1,
                            "#f0f921"
                          ]
                        ],
                        "type": "contour"
                      }
                    ],
                    "contourcarpet": [
                      {
                        "colorbar": {
                          "outlinewidth": 0,
                          "ticks": ""
                        },
                        "type": "contourcarpet"
                      }
                    ],
                    "heatmap": [
                      {
                        "colorbar": {
                          "outlinewidth": 0,
                          "ticks": ""
                        },
                        "colorscale": [
                          [
                            0,
                            "#0d0887"
                          ],
                          [
                            0.1111111111111111,
                            "#46039f"
                          ],
                          [
                            0.2222222222222222,
                            "#7201a8"
                          ],
                          [
                            0.3333333333333333,
                            "#9c179e"
                          ],
                          [
                            0.4444444444444444,
                            "#bd3786"
                          ],
                          [
                            0.5555555555555556,
                            "#d8576b"
                          ],
                          [
                            0.6666666666666666,
                            "#ed7953"
                          ],
                          [
                            0.7777777777777778,
                            "#fb9f3a"
                          ],
                          [
                            0.8888888888888888,
                            "#fdca26"
                          ],
                          [
                            1,
                            "#f0f921"
                          ]
                        ],
                        "type": "heatmap"
                      }
                    ],
                    "heatmapgl": [
                      {
                        "colorbar": {
                          "outlinewidth": 0,
                          "ticks": ""
                        },
                        "colorscale": [
                          [
                            0,
                            "#0d0887"
                          ],
                          [
                            0.1111111111111111,
                            "#46039f"
                          ],
                          [
                            0.2222222222222222,
                            "#7201a8"
                          ],
                          [
                            0.3333333333333333,
                            "#9c179e"
                          ],
                          [
                            0.4444444444444444,
                            "#bd3786"
                          ],
                          [
                            0.5555555555555556,
                            "#d8576b"
                          ],
                          [
                            0.6666666666666666,
                            "#ed7953"
                          ],
                          [
                            0.7777777777777778,
                            "#fb9f3a"
                          ],
                          [
                            0.8888888888888888,
                            "#fdca26"
                          ],
                          [
                            1,
                            "#f0f921"
                          ]
                        ],
                        "type": "heatmapgl"
                      }
                    ],
                    "histogram": [
                      {
                        "marker": {
                          "pattern": {
                            "fillmode": "overlay",
                            "size": 10,
                            "solidity": 0.2
                          }
                        },
                        "type": "histogram"
                      }
                    ],
                    "histogram2d": [
                      {
                        "colorbar": {
                          "outlinewidth": 0,
                          "ticks": ""
                        },
                        "colorscale": [
                          [
                            0,
                            "#0d0887"
                          ],
                          [
                            0.1111111111111111,
                            "#46039f"
                          ],
                          [
                            0.2222222222222222,
                            "#7201a8"
                          ],
                          [
                            0.3333333333333333,
                            "#9c179e"
                          ],
                          [
                            0.4444444444444444,
                            "#bd3786"
                          ],
                          [
                            0.5555555555555556,
                            "#d8576b"
                          ],
                          [
                            0.6666666666666666,
                            "#ed7953"
                          ],
                          [
                            0.7777777777777778,
                            "#fb9f3a"
                          ],
                          [
                            0.8888888888888888,
                            "#fdca26"
                          ],
                          [
                            1,
                            "#f0f921"
                          ]
                        ],
                        "type": "histogram2d"
                      }
                    ],
                    "histogram2dcontour": [
                      {
                        "colorbar": {
                          "outlinewidth": 0,
                          "ticks": ""
                        },
                        "colorscale": [
                          [
                            0,
                            "#0d0887"
                          ],
                          [
                            0.1111111111111111,
                            "#46039f"
                          ],
                          [
                            0.2222222222222222,
                            "#7201a8"
                          ],
                          [
                            0.3333333333333333,
                            "#9c179e"
                          ],
                          [
                            0.4444444444444444,
                            "#bd3786"
                          ],
                          [
                            0.5555555555555556,
                            "#d8576b"
                          ],
                          [
                            0.6666666666666666,
                            "#ed7953"
                          ],
                          [
                            0.7777777777777778,
                            "#fb9f3a"
                          ],
                          [
                            0.8888888888888888,
                            "#fdca26"
                          ],
                          [
                            1,
                            "#f0f921"
                          ]
                        ],
                        "type": "histogram2dcontour"
                      }
                    ],
                    "mesh3d": [
                      {
                        "colorbar": {
                          "outlinewidth": 0,
                          "ticks": ""
                        },
                        "type": "mesh3d"
                      }
                    ],
                    "parcoords": [
                      {
                        "line": {
                          "colorbar": {
                            "outlinewidth": 0,
                            "ticks": ""
                          }
                        },
                        "type": "parcoords"
                      }
                    ],
                    "pie": [
                      {
                        "automargin": true,
                        "type": "pie"
                      }
                    ],
                    "scatter": [
                      {
                        "fillpattern": {
                          "fillmode": "overlay",
                          "size": 10,
                          "solidity": 0.2
                        },
                        "type": "scatter"
                      }
                    ],
                    "scatter3d": [
                      {
                        "line": {
                          "colorbar": {
                            "outlinewidth": 0,
                            "ticks": ""
                          }
                        },
                        "marker": {
                          "colorbar": {
                            "outlinewidth": 0,
                            "ticks": ""
                          }
                        },
                        "type": "scatter3d"
                      }
                    ],
                    "scattercarpet": [
                      {
                        "marker": {
                          "colorbar": {
                            "outlinewidth": 0,
                            "ticks": ""
                          }
                        },
                        "type": "scattercarpet"
                      }
                    ],
                    "scattergeo": [
                      {
                        "marker": {
                          "colorbar": {
                            "outlinewidth": 0,
                            "ticks": ""
                          }
                        },
                        "type": "scattergeo"
                      }
                    ],
                    "scattergl": [
                      {
                        "marker": {
                          "colorbar": {
                            "outlinewidth": 0,
                            "ticks": ""
                          }
                        },
                        "type": "scattergl"
                      }
                    ],
                    "scattermapbox": [
                      {
                        "marker": {
                          "colorbar": {
                            "outlinewidth": 0,
                            "ticks": ""
                          }
                        },
                        "type": "scattermapbox"
                      }
                    ],
                    "scatterpolar": [
                      {
                        "marker": {
                          "colorbar": {
                            "outlinewidth": 0,
                            "ticks": ""
                          }
                        },
                        "type": "scatterpolar"
                      }
                    ],
                    "scatterpolargl": [
                      {
                        "marker": {
                          "colorbar": {
                            "outlinewidth": 0,
                            "ticks": ""
                          }
                        },
                        "type": "scatterpolargl"
                      }
                    ],
                    "scatterternary": [
                      {
                        "marker": {
                          "colorbar": {
                            "outlinewidth": 0,
                            "ticks": ""
                          }
                        },
                        "type": "scatterternary"
                      }
                    ],
                    "surface": [
                      {
                        "colorbar": {
                          "outlinewidth": 0,
                          "ticks": ""
                        },
                        "colorscale": [
                          [
                            0,
                            "#0d0887"
                          ],
                          [
                            0.1111111111111111,
                            "#46039f"
                          ],
                          [
                            0.2222222222222222,
                            "#7201a8"
                          ],
                          [
                            0.3333333333333333,
                            "#9c179e"
                          ],
                          [
                            0.4444444444444444,
                            "#bd3786"
                          ],
                          [
                            0.5555555555555556,
                            "#d8576b"
                          ],
                          [
                            0.6666666666666666,
                            "#ed7953"
                          ],
                          [
                            0.7777777777777778,
                            "#fb9f3a"
                          ],
                          [
                            0.8888888888888888,
                            "#fdca26"
                          ],
                          [
                            1,
                            "#f0f921"
                          ]
                        ],
                        "type": "surface"
                      }
                    ],
                    "table": [
                      {
                        "cells": {
                          "fill": {
                            "color": "#EBF0F8"
                          },
                          "line": {
                            "color": "white"
                          }
                        },
                        "header": {
                          "fill": {
                            "color": "#C8D4E3"
                          },
                          "line": {
                            "color": "white"
                          }
                        },
                        "type": "table"
                      }
                    ]
                  },
                  "layout": {
                    "annotationdefaults": {
                      "arrowcolor": "#2a3f5f",
                      "arrowhead": 0,
                      "arrowwidth": 1
                    },
                    "autotypenumbers": "strict",
                    "coloraxis": {
                      "colorbar": {
                        "outlinewidth": 0,
                        "ticks": ""
                      }
                    },
                    "colorscale": {
                      "diverging": [
                        [
                          0,
                          "#8e0152"
                        ],
                        [
                          0.1,
                          "#c51b7d"
                        ],
                        [
                          0.2,
                          "#de77ae"
                        ],
                        [
                          0.3,
                          "#f1b6da"
                        ],
                        [
                          0.4,
                          "#fde0ef"
                        ],
                        [
                          0.5,
                          "#f7f7f7"
                        ],
                        [
                          0.6,
                          "#e6f5d0"
                        ],
                        [
                          0.7,
                          "#b8e186"
                        ],
                        [
                          0.8,
                          "#7fbc41"
                        ],
                        [
                          0.9,
                          "#4d9221"
                        ],
                        [
                          1,
                          "#276419"
                        ]
                      ],
                      "sequential": [
                        [
                          0,
                          "#0d0887"
                        ],
                        [
                          0.1111111111111111,
                          "#46039f"
                        ],
                        [
                          0.2222222222222222,
                          "#7201a8"
                        ],
                        [
                          0.3333333333333333,
                          "#9c179e"
                        ],
                        [
                          0.4444444444444444,
                          "#bd3786"
                        ],
                        [
                          0.5555555555555556,
                          "#d8576b"
                        ],
                        [
                          0.6666666666666666,
                          "#ed7953"
                        ],
                        [
                          0.7777777777777778,
                          "#fb9f3a"
                        ],
                        [
                          0.8888888888888888,
                          "#fdca26"
                        ],
                        [
                          1,
                          "#f0f921"
                        ]
                      ],
                      "sequentialminus": [
                        [
                          0,
                          "#0d0887"
                        ],
                        [
                          0.1111111111111111,
                          "#46039f"
                        ],
                        [
                          0.2222222222222222,
                          "#7201a8"
                        ],
                        [
                          0.3333333333333333,
                          "#9c179e"
                        ],
                        [
                          0.4444444444444444,
                          "#bd3786"
                        ],
                        [
                          0.5555555555555556,
                          "#d8576b"
                        ],
                        [
                          0.6666666666666666,
                          "#ed7953"
                        ],
                        [
                          0.7777777777777778,
                          "#fb9f3a"
                        ],
                        [
                          0.8888888888888888,
                          "#fdca26"
                        ],
                        [
                          1,
                          "#f0f921"
                        ]
                      ]
                    },
                    "colorway": [
                      "#636efa",
                      "#EF553B",
                      "#00cc96",
                      "#ab63fa",
                      "#FFA15A",
                      "#19d3f3",
                      "#FF6692",
                      "#B6E880",
                      "#FF97FF",
                      "#FECB52"
                    ],
                    "font": {
                      "color": "#2a3f5f"
                    },
                    "geo": {
                      "bgcolor": "white",
                      "lakecolor": "white",
                      "landcolor": "#E5ECF6",
                      "showlakes": true,
                      "showland": true,
                      "subunitcolor": "white"
                    },
                    "hoverlabel": {
                      "align": "left"
                    },
                    "hovermode": "closest",
                    "mapbox": {
                      "style": "light"
                    },
                    "paper_bgcolor": "white",
                    "plot_bgcolor": "#E5ECF6",
                    "polar": {
                      "angularaxis": {
                        "gridcolor": "white",
                        "linecolor": "white",
                        "ticks": ""
                      },
                      "bgcolor": "#E5ECF6",
                      "radialaxis": {
                        "gridcolor": "white",
                        "linecolor": "white",
                        "ticks": ""
                      }
                    },
                    "scene": {
                      "xaxis": {
                        "backgroundcolor": "#E5ECF6",
                        "gridcolor": "white",
                        "gridwidth": 2,
                        "linecolor": "white",
                        "showbackground": true,
                        "ticks": "",
                        "zerolinecolor": "white"
                      },
                      "yaxis": {
                        "backgroundcolor": "#E5ECF6",
                        "gridcolor": "white",
                        "gridwidth": 2,
                        "linecolor": "white",
                        "showbackground": true,
                        "ticks": "",
                        "zerolinecolor": "white"
                      },
                      "zaxis": {
                        "backgroundcolor": "#E5ECF6",
                        "gridcolor": "white",
                        "gridwidth": 2,
                        "linecolor": "white",
                        "showbackground": true,
                        "ticks": "",
                        "zerolinecolor": "white"
                      }
                    },
                    "shapedefaults": {
                      "line": {
                        "color": "#2a3f5f"
                      }
                    },
                    "ternary": {
                      "aaxis": {
                        "gridcolor": "white",
                        "linecolor": "white",
                        "ticks": ""
                      },
                      "baxis": {
                        "gridcolor": "white",
                        "linecolor": "white",
                        "ticks": ""
                      },
                      "bgcolor": "#E5ECF6",
                      "caxis": {
                        "gridcolor": "white",
                        "linecolor": "white",
                        "ticks": ""
                      }
                    },
                    "title": {
                      "x": 0.05
                    },
                    "xaxis": {
                      "automargin": true,
                      "gridcolor": "white",
                      "linecolor": "white",
                      "ticks": "",
                      "title": {
                        "standoff": 15
                      },
                      "zerolinecolor": "white",
                      "zerolinewidth": 2
                    },
                    "yaxis": {
                      "automargin": true,
                      "gridcolor": "white",
                      "linecolor": "white",
                      "ticks": "",
                      "title": {
                        "standoff": 15
                      },
                      "zerolinecolor": "white",
                      "zerolinewidth": 2
                    }
                  }
                },
                "width": 400,
                "xaxis": {
                  "anchor": "y",
                  "constrain": "domain",
                  "domain": [
                    0,
                    1
                  ],
                  "scaleanchor": "y"
                },
                "yaxis": {
                  "anchor": "x",
                  "autorange": "reversed",
                  "constrain": "domain",
                  "domain": [
                    0,
                    1
                  ]
                }
              }
            }
          },
          "metadata": {},
          "output_type": "display_data"
        },
        {
          "name": "stdout",
          "output_type": "stream",
          "text": [
            "              precision    recall  f1-score   support\n",
            "\n",
            "           0       1.00      1.00      1.00     59478\n",
            "           1       0.91      0.92      0.91      1435\n",
            "\n",
            "    accuracy                           1.00     60913\n",
            "   macro avg       0.95      0.96      0.96     60913\n",
            "weighted avg       1.00      1.00      1.00     60913\n",
            "\n"
          ]
        }
      ],
      "source": [
        "# Random Forest Classifier\n",
        "RF = RandomForestClassifier(max_depth=4)\n",
        "RF.fit(X_train, y_train)\n",
        "\n",
        "predd = RF.predict(w_test)\n",
        "# Calc  confusion matrix\n",
        "cm = confusion_matrix(predd, z_test)\n",
        "\n",
        "# Show CM and classification_repor\n",
        "print(\"Random Forest Classifier : \\n\")\n",
        "print(f\"\\nConfusion Matrix :\")\n",
        "fig = px.imshow(cm, text_auto=True, color_continuous_scale='rdbu', width=400, height=400)\n",
        "fig.show()\n",
        "print(classification_report(z_test, pred))"
      ]
    },
    {
      "cell_type": "code",
      "execution_count": 24,
      "metadata": {
        "colab": {
          "base_uri": "https://localhost:8080/",
          "height": 643
        },
        "id": "pAIO6dMH0UXp",
        "outputId": "37c3f077-b965-45c7-dec0-a81f2617f1b9"
      },
      "outputs": [
        {
          "name": "stdout",
          "output_type": "stream",
          "text": [
            "XGB Classifier : \n",
            "\n",
            "\n",
            "Confusion Matrix :\n"
          ]
        },
        {
          "data": {
            "application/vnd.plotly.v1+json": {
              "config": {
                "plotlyServerURL": "https://plot.ly"
              },
              "data": [
                {
                  "coloraxis": "coloraxis",
                  "hovertemplate": "x: %{x}<br>y: %{y}<br>color: %{z}<extra></extra>",
                  "name": "0",
                  "texttemplate": "%{z}",
                  "type": "heatmap",
                  "xaxis": "x",
                  "yaxis": "y",
                  "z": [
                    [
                      59343,
                      101
                    ],
                    [
                      135,
                      1334
                    ]
                  ]
                }
              ],
              "layout": {
                "coloraxis": {
                  "colorscale": [
                    [
                      0,
                      "rgb(103,0,31)"
                    ],
                    [
                      0.1,
                      "rgb(178,24,43)"
                    ],
                    [
                      0.2,
                      "rgb(214,96,77)"
                    ],
                    [
                      0.3,
                      "rgb(244,165,130)"
                    ],
                    [
                      0.4,
                      "rgb(253,219,199)"
                    ],
                    [
                      0.5,
                      "rgb(247,247,247)"
                    ],
                    [
                      0.6,
                      "rgb(209,229,240)"
                    ],
                    [
                      0.7,
                      "rgb(146,197,222)"
                    ],
                    [
                      0.8,
                      "rgb(67,147,195)"
                    ],
                    [
                      0.9,
                      "rgb(33,102,172)"
                    ],
                    [
                      1,
                      "rgb(5,48,97)"
                    ]
                  ]
                },
                "height": 400,
                "margin": {
                  "t": 60
                },
                "template": {
                  "data": {
                    "bar": [
                      {
                        "error_x": {
                          "color": "#2a3f5f"
                        },
                        "error_y": {
                          "color": "#2a3f5f"
                        },
                        "marker": {
                          "line": {
                            "color": "#E5ECF6",
                            "width": 0.5
                          },
                          "pattern": {
                            "fillmode": "overlay",
                            "size": 10,
                            "solidity": 0.2
                          }
                        },
                        "type": "bar"
                      }
                    ],
                    "barpolar": [
                      {
                        "marker": {
                          "line": {
                            "color": "#E5ECF6",
                            "width": 0.5
                          },
                          "pattern": {
                            "fillmode": "overlay",
                            "size": 10,
                            "solidity": 0.2
                          }
                        },
                        "type": "barpolar"
                      }
                    ],
                    "carpet": [
                      {
                        "aaxis": {
                          "endlinecolor": "#2a3f5f",
                          "gridcolor": "white",
                          "linecolor": "white",
                          "minorgridcolor": "white",
                          "startlinecolor": "#2a3f5f"
                        },
                        "baxis": {
                          "endlinecolor": "#2a3f5f",
                          "gridcolor": "white",
                          "linecolor": "white",
                          "minorgridcolor": "white",
                          "startlinecolor": "#2a3f5f"
                        },
                        "type": "carpet"
                      }
                    ],
                    "choropleth": [
                      {
                        "colorbar": {
                          "outlinewidth": 0,
                          "ticks": ""
                        },
                        "type": "choropleth"
                      }
                    ],
                    "contour": [
                      {
                        "colorbar": {
                          "outlinewidth": 0,
                          "ticks": ""
                        },
                        "colorscale": [
                          [
                            0,
                            "#0d0887"
                          ],
                          [
                            0.1111111111111111,
                            "#46039f"
                          ],
                          [
                            0.2222222222222222,
                            "#7201a8"
                          ],
                          [
                            0.3333333333333333,
                            "#9c179e"
                          ],
                          [
                            0.4444444444444444,
                            "#bd3786"
                          ],
                          [
                            0.5555555555555556,
                            "#d8576b"
                          ],
                          [
                            0.6666666666666666,
                            "#ed7953"
                          ],
                          [
                            0.7777777777777778,
                            "#fb9f3a"
                          ],
                          [
                            0.8888888888888888,
                            "#fdca26"
                          ],
                          [
                            1,
                            "#f0f921"
                          ]
                        ],
                        "type": "contour"
                      }
                    ],
                    "contourcarpet": [
                      {
                        "colorbar": {
                          "outlinewidth": 0,
                          "ticks": ""
                        },
                        "type": "contourcarpet"
                      }
                    ],
                    "heatmap": [
                      {
                        "colorbar": {
                          "outlinewidth": 0,
                          "ticks": ""
                        },
                        "colorscale": [
                          [
                            0,
                            "#0d0887"
                          ],
                          [
                            0.1111111111111111,
                            "#46039f"
                          ],
                          [
                            0.2222222222222222,
                            "#7201a8"
                          ],
                          [
                            0.3333333333333333,
                            "#9c179e"
                          ],
                          [
                            0.4444444444444444,
                            "#bd3786"
                          ],
                          [
                            0.5555555555555556,
                            "#d8576b"
                          ],
                          [
                            0.6666666666666666,
                            "#ed7953"
                          ],
                          [
                            0.7777777777777778,
                            "#fb9f3a"
                          ],
                          [
                            0.8888888888888888,
                            "#fdca26"
                          ],
                          [
                            1,
                            "#f0f921"
                          ]
                        ],
                        "type": "heatmap"
                      }
                    ],
                    "heatmapgl": [
                      {
                        "colorbar": {
                          "outlinewidth": 0,
                          "ticks": ""
                        },
                        "colorscale": [
                          [
                            0,
                            "#0d0887"
                          ],
                          [
                            0.1111111111111111,
                            "#46039f"
                          ],
                          [
                            0.2222222222222222,
                            "#7201a8"
                          ],
                          [
                            0.3333333333333333,
                            "#9c179e"
                          ],
                          [
                            0.4444444444444444,
                            "#bd3786"
                          ],
                          [
                            0.5555555555555556,
                            "#d8576b"
                          ],
                          [
                            0.6666666666666666,
                            "#ed7953"
                          ],
                          [
                            0.7777777777777778,
                            "#fb9f3a"
                          ],
                          [
                            0.8888888888888888,
                            "#fdca26"
                          ],
                          [
                            1,
                            "#f0f921"
                          ]
                        ],
                        "type": "heatmapgl"
                      }
                    ],
                    "histogram": [
                      {
                        "marker": {
                          "pattern": {
                            "fillmode": "overlay",
                            "size": 10,
                            "solidity": 0.2
                          }
                        },
                        "type": "histogram"
                      }
                    ],
                    "histogram2d": [
                      {
                        "colorbar": {
                          "outlinewidth": 0,
                          "ticks": ""
                        },
                        "colorscale": [
                          [
                            0,
                            "#0d0887"
                          ],
                          [
                            0.1111111111111111,
                            "#46039f"
                          ],
                          [
                            0.2222222222222222,
                            "#7201a8"
                          ],
                          [
                            0.3333333333333333,
                            "#9c179e"
                          ],
                          [
                            0.4444444444444444,
                            "#bd3786"
                          ],
                          [
                            0.5555555555555556,
                            "#d8576b"
                          ],
                          [
                            0.6666666666666666,
                            "#ed7953"
                          ],
                          [
                            0.7777777777777778,
                            "#fb9f3a"
                          ],
                          [
                            0.8888888888888888,
                            "#fdca26"
                          ],
                          [
                            1,
                            "#f0f921"
                          ]
                        ],
                        "type": "histogram2d"
                      }
                    ],
                    "histogram2dcontour": [
                      {
                        "colorbar": {
                          "outlinewidth": 0,
                          "ticks": ""
                        },
                        "colorscale": [
                          [
                            0,
                            "#0d0887"
                          ],
                          [
                            0.1111111111111111,
                            "#46039f"
                          ],
                          [
                            0.2222222222222222,
                            "#7201a8"
                          ],
                          [
                            0.3333333333333333,
                            "#9c179e"
                          ],
                          [
                            0.4444444444444444,
                            "#bd3786"
                          ],
                          [
                            0.5555555555555556,
                            "#d8576b"
                          ],
                          [
                            0.6666666666666666,
                            "#ed7953"
                          ],
                          [
                            0.7777777777777778,
                            "#fb9f3a"
                          ],
                          [
                            0.8888888888888888,
                            "#fdca26"
                          ],
                          [
                            1,
                            "#f0f921"
                          ]
                        ],
                        "type": "histogram2dcontour"
                      }
                    ],
                    "mesh3d": [
                      {
                        "colorbar": {
                          "outlinewidth": 0,
                          "ticks": ""
                        },
                        "type": "mesh3d"
                      }
                    ],
                    "parcoords": [
                      {
                        "line": {
                          "colorbar": {
                            "outlinewidth": 0,
                            "ticks": ""
                          }
                        },
                        "type": "parcoords"
                      }
                    ],
                    "pie": [
                      {
                        "automargin": true,
                        "type": "pie"
                      }
                    ],
                    "scatter": [
                      {
                        "fillpattern": {
                          "fillmode": "overlay",
                          "size": 10,
                          "solidity": 0.2
                        },
                        "type": "scatter"
                      }
                    ],
                    "scatter3d": [
                      {
                        "line": {
                          "colorbar": {
                            "outlinewidth": 0,
                            "ticks": ""
                          }
                        },
                        "marker": {
                          "colorbar": {
                            "outlinewidth": 0,
                            "ticks": ""
                          }
                        },
                        "type": "scatter3d"
                      }
                    ],
                    "scattercarpet": [
                      {
                        "marker": {
                          "colorbar": {
                            "outlinewidth": 0,
                            "ticks": ""
                          }
                        },
                        "type": "scattercarpet"
                      }
                    ],
                    "scattergeo": [
                      {
                        "marker": {
                          "colorbar": {
                            "outlinewidth": 0,
                            "ticks": ""
                          }
                        },
                        "type": "scattergeo"
                      }
                    ],
                    "scattergl": [
                      {
                        "marker": {
                          "colorbar": {
                            "outlinewidth": 0,
                            "ticks": ""
                          }
                        },
                        "type": "scattergl"
                      }
                    ],
                    "scattermapbox": [
                      {
                        "marker": {
                          "colorbar": {
                            "outlinewidth": 0,
                            "ticks": ""
                          }
                        },
                        "type": "scattermapbox"
                      }
                    ],
                    "scatterpolar": [
                      {
                        "marker": {
                          "colorbar": {
                            "outlinewidth": 0,
                            "ticks": ""
                          }
                        },
                        "type": "scatterpolar"
                      }
                    ],
                    "scatterpolargl": [
                      {
                        "marker": {
                          "colorbar": {
                            "outlinewidth": 0,
                            "ticks": ""
                          }
                        },
                        "type": "scatterpolargl"
                      }
                    ],
                    "scatterternary": [
                      {
                        "marker": {
                          "colorbar": {
                            "outlinewidth": 0,
                            "ticks": ""
                          }
                        },
                        "type": "scatterternary"
                      }
                    ],
                    "surface": [
                      {
                        "colorbar": {
                          "outlinewidth": 0,
                          "ticks": ""
                        },
                        "colorscale": [
                          [
                            0,
                            "#0d0887"
                          ],
                          [
                            0.1111111111111111,
                            "#46039f"
                          ],
                          [
                            0.2222222222222222,
                            "#7201a8"
                          ],
                          [
                            0.3333333333333333,
                            "#9c179e"
                          ],
                          [
                            0.4444444444444444,
                            "#bd3786"
                          ],
                          [
                            0.5555555555555556,
                            "#d8576b"
                          ],
                          [
                            0.6666666666666666,
                            "#ed7953"
                          ],
                          [
                            0.7777777777777778,
                            "#fb9f3a"
                          ],
                          [
                            0.8888888888888888,
                            "#fdca26"
                          ],
                          [
                            1,
                            "#f0f921"
                          ]
                        ],
                        "type": "surface"
                      }
                    ],
                    "table": [
                      {
                        "cells": {
                          "fill": {
                            "color": "#EBF0F8"
                          },
                          "line": {
                            "color": "white"
                          }
                        },
                        "header": {
                          "fill": {
                            "color": "#C8D4E3"
                          },
                          "line": {
                            "color": "white"
                          }
                        },
                        "type": "table"
                      }
                    ]
                  },
                  "layout": {
                    "annotationdefaults": {
                      "arrowcolor": "#2a3f5f",
                      "arrowhead": 0,
                      "arrowwidth": 1
                    },
                    "autotypenumbers": "strict",
                    "coloraxis": {
                      "colorbar": {
                        "outlinewidth": 0,
                        "ticks": ""
                      }
                    },
                    "colorscale": {
                      "diverging": [
                        [
                          0,
                          "#8e0152"
                        ],
                        [
                          0.1,
                          "#c51b7d"
                        ],
                        [
                          0.2,
                          "#de77ae"
                        ],
                        [
                          0.3,
                          "#f1b6da"
                        ],
                        [
                          0.4,
                          "#fde0ef"
                        ],
                        [
                          0.5,
                          "#f7f7f7"
                        ],
                        [
                          0.6,
                          "#e6f5d0"
                        ],
                        [
                          0.7,
                          "#b8e186"
                        ],
                        [
                          0.8,
                          "#7fbc41"
                        ],
                        [
                          0.9,
                          "#4d9221"
                        ],
                        [
                          1,
                          "#276419"
                        ]
                      ],
                      "sequential": [
                        [
                          0,
                          "#0d0887"
                        ],
                        [
                          0.1111111111111111,
                          "#46039f"
                        ],
                        [
                          0.2222222222222222,
                          "#7201a8"
                        ],
                        [
                          0.3333333333333333,
                          "#9c179e"
                        ],
                        [
                          0.4444444444444444,
                          "#bd3786"
                        ],
                        [
                          0.5555555555555556,
                          "#d8576b"
                        ],
                        [
                          0.6666666666666666,
                          "#ed7953"
                        ],
                        [
                          0.7777777777777778,
                          "#fb9f3a"
                        ],
                        [
                          0.8888888888888888,
                          "#fdca26"
                        ],
                        [
                          1,
                          "#f0f921"
                        ]
                      ],
                      "sequentialminus": [
                        [
                          0,
                          "#0d0887"
                        ],
                        [
                          0.1111111111111111,
                          "#46039f"
                        ],
                        [
                          0.2222222222222222,
                          "#7201a8"
                        ],
                        [
                          0.3333333333333333,
                          "#9c179e"
                        ],
                        [
                          0.4444444444444444,
                          "#bd3786"
                        ],
                        [
                          0.5555555555555556,
                          "#d8576b"
                        ],
                        [
                          0.6666666666666666,
                          "#ed7953"
                        ],
                        [
                          0.7777777777777778,
                          "#fb9f3a"
                        ],
                        [
                          0.8888888888888888,
                          "#fdca26"
                        ],
                        [
                          1,
                          "#f0f921"
                        ]
                      ]
                    },
                    "colorway": [
                      "#636efa",
                      "#EF553B",
                      "#00cc96",
                      "#ab63fa",
                      "#FFA15A",
                      "#19d3f3",
                      "#FF6692",
                      "#B6E880",
                      "#FF97FF",
                      "#FECB52"
                    ],
                    "font": {
                      "color": "#2a3f5f"
                    },
                    "geo": {
                      "bgcolor": "white",
                      "lakecolor": "white",
                      "landcolor": "#E5ECF6",
                      "showlakes": true,
                      "showland": true,
                      "subunitcolor": "white"
                    },
                    "hoverlabel": {
                      "align": "left"
                    },
                    "hovermode": "closest",
                    "mapbox": {
                      "style": "light"
                    },
                    "paper_bgcolor": "white",
                    "plot_bgcolor": "#E5ECF6",
                    "polar": {
                      "angularaxis": {
                        "gridcolor": "white",
                        "linecolor": "white",
                        "ticks": ""
                      },
                      "bgcolor": "#E5ECF6",
                      "radialaxis": {
                        "gridcolor": "white",
                        "linecolor": "white",
                        "ticks": ""
                      }
                    },
                    "scene": {
                      "xaxis": {
                        "backgroundcolor": "#E5ECF6",
                        "gridcolor": "white",
                        "gridwidth": 2,
                        "linecolor": "white",
                        "showbackground": true,
                        "ticks": "",
                        "zerolinecolor": "white"
                      },
                      "yaxis": {
                        "backgroundcolor": "#E5ECF6",
                        "gridcolor": "white",
                        "gridwidth": 2,
                        "linecolor": "white",
                        "showbackground": true,
                        "ticks": "",
                        "zerolinecolor": "white"
                      },
                      "zaxis": {
                        "backgroundcolor": "#E5ECF6",
                        "gridcolor": "white",
                        "gridwidth": 2,
                        "linecolor": "white",
                        "showbackground": true,
                        "ticks": "",
                        "zerolinecolor": "white"
                      }
                    },
                    "shapedefaults": {
                      "line": {
                        "color": "#2a3f5f"
                      }
                    },
                    "ternary": {
                      "aaxis": {
                        "gridcolor": "white",
                        "linecolor": "white",
                        "ticks": ""
                      },
                      "baxis": {
                        "gridcolor": "white",
                        "linecolor": "white",
                        "ticks": ""
                      },
                      "bgcolor": "#E5ECF6",
                      "caxis": {
                        "gridcolor": "white",
                        "linecolor": "white",
                        "ticks": ""
                      }
                    },
                    "title": {
                      "x": 0.05
                    },
                    "xaxis": {
                      "automargin": true,
                      "gridcolor": "white",
                      "linecolor": "white",
                      "ticks": "",
                      "title": {
                        "standoff": 15
                      },
                      "zerolinecolor": "white",
                      "zerolinewidth": 2
                    },
                    "yaxis": {
                      "automargin": true,
                      "gridcolor": "white",
                      "linecolor": "white",
                      "ticks": "",
                      "title": {
                        "standoff": 15
                      },
                      "zerolinecolor": "white",
                      "zerolinewidth": 2
                    }
                  }
                },
                "width": 400,
                "xaxis": {
                  "anchor": "y",
                  "constrain": "domain",
                  "domain": [
                    0,
                    1
                  ],
                  "scaleanchor": "y"
                },
                "yaxis": {
                  "anchor": "x",
                  "autorange": "reversed",
                  "constrain": "domain",
                  "domain": [
                    0,
                    1
                  ]
                }
              }
            }
          },
          "metadata": {},
          "output_type": "display_data"
        },
        {
          "name": "stdout",
          "output_type": "stream",
          "text": [
            "              precision    recall  f1-score   support\n",
            "\n",
            "           0       1.00      1.00      1.00     59478\n",
            "           1       0.91      0.93      0.92      1435\n",
            "\n",
            "    accuracy                           1.00     60913\n",
            "   macro avg       0.95      0.96      0.96     60913\n",
            "weighted avg       1.00      1.00      1.00     60913\n",
            "\n"
          ]
        }
      ],
      "source": [
        "# XGB Classifier\n",
        "XGB = XGBClassifier(max_depth=6)\n",
        "XGB.fit(X_train, y_train)\n",
        "\n",
        "# Prediction\n",
        "pred = XGB.predict(w_test)\n",
        "\n",
        "# Calc  confusion matrix\n",
        "cm = confusion_matrix(pred, z_test)\n",
        "\n",
        "# Show CM and classification_repor\n",
        "print(\"XGB Classifier : \\n\")\n",
        "print(f\"\\nConfusion Matrix :\")\n",
        "fig = px.imshow(cm, text_auto=True, color_continuous_scale='rdbu', width=400, height=400)\n",
        "fig.show()\n",
        "print(classification_report(z_test, pred))"
      ]
    },
    {
      "cell_type": "markdown",
      "metadata": {
        "id": "NPUTEH1F4UB3"
      },
      "source": [
        "# Model Comparison\n",
        "Now that we have trained multiple models, let's compare their performance side-by-side.\n"
      ]
    },
    {
      "cell_type": "code",
      "execution_count": 25,
      "metadata": {
        "colab": {
          "base_uri": "https://localhost:8080/",
          "height": 926
        },
        "id": "uvWdf0MC1THl",
        "outputId": "68656a5a-f714-43b1-a189-9a62743d8167"
      },
      "outputs": [
        {
          "name": "stdout",
          "output_type": "stream",
          "text": [
            "                 Model  Train Accuracy  Test Accuracy\n",
            "0  Logistic Regression        0.989099       0.988393\n",
            "1        Decision Tree        1.000000       0.995929\n",
            "2        Random Forest        0.993783       0.995929\n",
            "3                  XGB        0.999633       0.996126\n"
          ]
        },
        {
          "data": {
            "image/png": "[encoded data removed]",
            "text/plain": [
              "<Figure size 2000x1000 with 1 Axes>"
            ]
          },
          "metadata": {},
          "output_type": "display_data"
        }
      ],
      "source": [
        "# Create a list to hold each model's results\n",
        "model_results = []\n",
        "\n",
        "# After training and evaluating each model, add its results to the list. For example:\n",
        "\n",
        "model_results.append(['Logistic Regression', lr.score(X_train, y_train), lr.score(w_test, z_test)])\n",
        "model_results.append(['Decision Tree', dtc.score(X_train, y_train), dtc.score(w_test, z_test)])\n",
        "model_results.append(['Random Forest', RF.score(X_train, y_train), dtc.score(w_test, z_test)])\n",
        "model_results.append(['XGB', XGB.score(X_train, y_train), XGB.score(w_test, z_test)])\n",
        "\n",
        "# Now, create a DataFrame from the results\n",
        "model_comparison_df = pd.DataFrame(model_results, columns=['Model', 'Train Accuracy', 'Test Accuracy'])\n",
        "\n",
        "# Print the DataFrame\n",
        "print(model_comparison_df)\n",
        "\n",
        "# Plot the results and since there scores are similar then we must make the y axis from 0.8 to 1.0\n",
        "\n",
        "plt.figure(figsize=(20, 10))\n",
        "sns.barplot(x='Model', y='Test Accuracy', data=model_comparison_df)\n",
        "plt.ylim(0, 1.0)\n",
        "plt.show()\n",
        "\n"
      ]
    },
    {
      "cell_type": "code",
      "execution_count": 26,
      "metadata": {
        "colab": {
          "base_uri": "https://localhost:8080/",
          "height": 830
        },
        "id": "JooxY7LY24-M",
        "outputId": "7d39644b-4263-4ad6-e06d-836563231099"
      },
      "outputs": [
        {
          "data": {
            "image/png": "[encoded data removed]",
            "text/plain": [
              "<Figure size 2000x1000 with 1 Axes>"
            ]
          },
          "metadata": {},
          "output_type": "display_data"
        }
      ],
      "source": [
        "# Plot the results and since there scores are similar then we must make the y axis from 0.8 to 1.0\n",
        "\n",
        "\n",
        "plt.figure(figsize=(20, 10))\n",
        "sns.barplot(x='Model', y='Test Accuracy', data=model_comparison_df)\n",
        "plt.ylim(0.988, 1.0)\n",
        "plt.show()\n"
      ]
    },
    {
      "cell_type": "code",
      "execution_count": null,
      "metadata": {
        "id": "1DFybPNZ25i2"
      },
      "outputs": [],
      "source": []
    }
  ],
  "metadata": {
    "colab": {
      "provenance": []
    },
    "kernelspec": {
      "display_name": "Python 3",
      "name": "python3"
    },
    "language_info": {
      "codemirror_mode": {
        "name": "ipython",
        "version": 3
      },
      "file_extension": ".py",
      "mimetype": "text/x-python",
      "name": "python",
      "nbconvert_exporter": "python",
      "pygments_lexer": "ipython3",
      "version": "3.11.1"
    }
  },
  "nbformat": 4,
  "nbformat_minor": 0
}
